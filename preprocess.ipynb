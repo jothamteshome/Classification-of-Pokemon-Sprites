{
 "cells": [
  {
   "cell_type": "markdown",
   "id": "8badcc38",
   "metadata": {},
   "source": [
    "# Preprocessing\n",
    "## Imports"
   ]
  },
  {
   "cell_type": "code",
   "execution_count": 2,
   "id": "fb37c5bd04ad9382",
   "metadata": {},
   "outputs": [
    {
     "name": "stdout",
     "output_type": "stream",
     "text": [
      "Collecting opencv-python\n",
      "  Using cached opencv_python-4.8.1.78-cp37-abi3-macosx_10_16_x86_64.whl (54.7 MB)\n",
      "Requirement already satisfied: numpy>=1.17.3; python_version >= \"3.8\" in /Users/ryanconley/opt/anaconda3/envs/mkl_solve/lib/python3.8/site-packages (from opencv-python) (1.24.2)\n",
      "Installing collected packages: opencv-python\n",
      "Successfully installed opencv-python-4.8.1.78\n",
      "Note: you may need to restart the kernel to use updated packages.\n"
     ]
    }
   ],
   "source": [
    "%pip install opencv-python"
   ]
  },
  {
   "cell_type": "code",
   "execution_count": 1,
   "id": "c4da22d9",
   "metadata": {
    "ExecuteTime": {
     "end_time": "2023-11-16T16:40:47.436172600Z",
     "start_time": "2023-11-16T16:40:45.382200700Z"
    }
   },
   "outputs": [],
   "source": [
    "import os\n",
    "import numpy as np\n",
    "import matplotlib.pyplot as plt\n",
    "import matplotlib.image as mpimg\n",
    "import matplotlib.transforms as transforms\n",
    "import tarfile\n",
    "import pandas as pd\n",
    "import cv2\n",
    "from PIL import Image, ImageFilter"
   ]
  },
  {
   "cell_type": "markdown",
   "id": "beb86cb1",
   "metadata": {},
   "source": [
    "### Opening Data Files"
   ]
  },
  {
   "cell_type": "code",
   "execution_count": 2,
   "id": "eb6f827a",
   "metadata": {
    "ExecuteTime": {
     "end_time": "2023-11-16T16:40:58.635003400Z",
     "start_time": "2023-11-16T16:40:58.614014300Z"
    }
   },
   "outputs": [],
   "source": [
    "def open_tar(filename, dest=None):\n",
    "    with tarfile.open(filename, 'r:gz') as tar:\n",
    "        if dest is None:\n",
    "            tar.extractall('./')\n",
    "        else:\n",
    "            tar.extractall(dest)\n",
    "    print(\"Extraction successful!\")"
   ]
  },
  {
   "cell_type": "markdown",
   "id": "d12d72ca",
   "metadata": {},
   "source": [
    "Below extracts into pokemon/icons path"
   ]
  },
  {
   "cell_type": "code",
   "execution_count": 3,
   "id": "2e947d73",
   "metadata": {
    "ExecuteTime": {
     "end_time": "2023-11-16T16:41:05.032711Z",
     "start_time": "2023-11-16T16:41:03.395623900Z"
    }
   },
   "outputs": [
    {
     "name": "stdout",
     "output_type": "stream",
     "text": [
      "Extraction successful!\n"
     ]
    }
   ],
   "source": [
    "open_tar(\"./datasource/pokemon-icons.tar.gz\")"
   ]
  },
  {
   "cell_type": "markdown",
   "id": "28e08ae8",
   "metadata": {},
   "source": [
    "Below extracts into pokemon/main-sprites path"
   ]
  },
  {
   "cell_type": "code",
   "execution_count": 4,
   "id": "9cdcac8e",
   "metadata": {
    "ExecuteTime": {
     "end_time": "2023-11-16T16:41:09.314048900Z",
     "start_time": "2023-11-16T16:41:07.166719200Z"
    }
   },
   "outputs": [
    {
     "name": "stdout",
     "output_type": "stream",
     "text": [
      "Extraction successful!\n"
     ]
    }
   ],
   "source": [
    "open_tar(\"./datasource/generation-1.tar.gz\")"
   ]
  },
  {
   "cell_type": "markdown",
   "id": "6325b4bf",
   "metadata": {},
   "source": [
    "### Create Pokedex\n",
    "Pokedex for our purpose is simply a pandas dataframe that maps a pokemon's index to its name. Many images are simply called \"1.png\" so this data structure allows us to determine that \"1.png\" is bulbasaur"
   ]
  },
  {
   "cell_type": "code",
   "execution_count": 5,
   "id": "edb8b466",
   "metadata": {
    "ExecuteTime": {
     "end_time": "2023-11-16T16:41:23.654760400Z",
     "start_time": "2023-11-16T16:41:23.641165900Z"
    }
   },
   "outputs": [],
   "source": [
    "def make_pokedex(path=\"pokedex/pokemon.csv\"):\n",
    "    pokedex = pd.read_csv(path)\n",
    "    return pokedex"
   ]
  },
  {
   "cell_type": "code",
   "execution_count": 6,
   "id": "8edbed10",
   "metadata": {
    "ExecuteTime": {
     "end_time": "2023-11-16T16:41:28.404988100Z",
     "start_time": "2023-11-16T16:41:28.337472800Z"
    }
   },
   "outputs": [
    {
     "name": "stdout",
     "output_type": "stream",
     "text": [
      "            Name     Type1   Type2\n",
      "0      bulbasaur     Grass  Poison\n",
      "1        ivysaur     Grass  Poison\n",
      "2       venusaur     Grass  Poison\n",
      "3     charmander      Fire     NaN\n",
      "4     charmeleon      Fire     NaN\n",
      "..           ...       ...     ...\n",
      "804    stakataka      Rock   Steel\n",
      "805  blacephalon      Fire   Ghost\n",
      "806      zeraora  Electric     NaN\n",
      "807       meltan     Steel     NaN\n",
      "808     melmetal     Steel     NaN\n",
      "\n",
      "[809 rows x 3 columns]\n"
     ]
    }
   ],
   "source": [
    "pokedex = make_pokedex()\n",
    "print(pokedex)"
   ]
  },
  {
   "cell_type": "markdown",
   "id": "31948de6",
   "metadata": {},
   "source": [
    "Here I determine the name of the pokemon located at index 49"
   ]
  },
  {
   "cell_type": "code",
   "execution_count": 7,
   "id": "448aa79d",
   "metadata": {
    "ExecuteTime": {
     "end_time": "2023-11-16T16:41:35.902958300Z",
     "start_time": "2023-11-16T16:41:35.867436200Z"
    }
   },
   "outputs": [
    {
     "data": {
      "text/plain": [
       "'diglett'"
      ]
     },
     "execution_count": 7,
     "metadata": {},
     "output_type": "execute_result"
    }
   ],
   "source": [
    "pokedex[\"Name\"][49]"
   ]
  },
  {
   "cell_type": "markdown",
   "id": "5791ab37",
   "metadata": {},
   "source": [
    "## Image Augmentation"
   ]
  },
  {
   "cell_type": "code",
   "execution_count": 8,
   "id": "5fd2997d",
   "metadata": {
    "ExecuteTime": {
     "end_time": "2023-11-16T16:41:41.534743700Z",
     "start_time": "2023-11-16T16:41:39.365923800Z"
    }
   },
   "outputs": [],
   "source": [
    "# Sample image to test augmentations on\n",
    "img = Image.open(\"pokedex/images/images/abra.png\")\n",
    "img.show()"
   ]
  },
  {
   "cell_type": "markdown",
   "id": "304b03c4",
   "metadata": {},
   "source": [
    "### Rotation"
   ]
  },
  {
   "cell_type": "code",
   "execution_count": 33,
   "id": "e6595c7e",
   "metadata": {
    "ExecuteTime": {
     "end_time": "2023-11-16T16:41:50.674934100Z",
     "start_time": "2023-11-16T16:41:50.653939600Z"
    }
   },
   "outputs": [],
   "source": [
    "# Rotates an image by a random amount. Set the \"rot\" parameter if you want to rotate by a specific degree amount\n",
    "def img_rotate(img, rot=None):\n",
    "    if rot is None:\n",
    "        rot = np.random.uniform(-45, 45)\n",
    "    \n",
    "    rot_img = img.rotate(rot)\n",
    "#     rot_img.show(title=\"Rotated Image\")\n",
    "    return rot_img"
   ]
  },
  {
   "cell_type": "code",
   "execution_count": 34,
   "id": "8ef5a4d9",
   "metadata": {
    "ExecuteTime": {
     "end_time": "2023-11-16T16:41:59.552840100Z",
     "start_time": "2023-11-16T16:41:59.535844400Z"
    }
   },
   "outputs": [
    {
     "data": {
      "image/png": "[encoded data removed]",
      "text/plain": [
       "<PIL.Image.Image image mode=RGBA size=120x120 at 0x7FC3A271E730>"
      ]
     },
     "execution_count": 34,
     "metadata": {},
     "output_type": "execute_result"
    }
   ],
   "source": [
    "# Test random rotation\n",
    "img_rotate(img)"
   ]
  },
  {
   "cell_type": "markdown",
   "id": "fcf984cc",
   "metadata": {},
   "source": [
    "### Todo: (Add noise, zoom in, etc?)"
   ]
  },
  {
   "cell_type": "markdown",
   "id": "7dbbc6af026c1b80",
   "metadata": {},
   "source": [
    "### Additional Augments"
   ]
  },
  {
   "cell_type": "markdown",
   "id": "a353939b5b33c100",
   "metadata": {},
   "source": [
    "#### Gaussian Blur"
   ]
  },
  {
   "cell_type": "code",
   "execution_count": 11,
   "id": "49d77101809801be",
   "metadata": {},
   "outputs": [],
   "source": [
    "def gaussian_blur(img, kernel_size=2):\n",
    "    # mean is the center of the gaussian distribution\n",
    "    # var is the variance of the gaussian distribution\n",
    "\n",
    "    return img.filter(ImageFilter.GaussianBlur(kernel_size))"
   ]
  },
  {
   "cell_type": "code",
   "execution_count": 12,
   "id": "3aa658b9a92e8ba",
   "metadata": {},
   "outputs": [
    {
     "data": {
      "image/png": "[encoded data removed]",
      "text/plain": [
       "<PIL.Image.Image image mode=RGBA size=120x120 at 0x7FC3A03474C0>"
      ]
     },
     "execution_count": 12,
     "metadata": {},
     "output_type": "execute_result"
    }
   ],
   "source": [
    "# Test gaussian blur with radius of 2\n",
    "gaussian_blur(img)"
   ]
  },
  {
   "cell_type": "markdown",
   "id": "8453ecaa60dc4d0b",
   "metadata": {},
   "source": [
    "#### Adding Gaussian Noise"
   ]
  },
  {
   "cell_type": "code",
   "execution_count": 13,
   "id": "c6f3663cb411a179",
   "metadata": {},
   "outputs": [],
   "source": [
    "def add_noise(img, mean=0, var=1):\n",
    "    img_data = np.array(img)\n",
    "\n",
    "    noise = np.random.normal(mean, var, img_data.shape)\n",
    "\n",
    "    return Image.fromarray(np.clip(img_data + noise, 0, 255).astype('uint8'))"
   ]
  },
  {
   "cell_type": "code",
   "execution_count": 14,
   "id": "2a98e2f6603576e6",
   "metadata": {},
   "outputs": [
    {
     "data": {
      "image/png": "[encoded data removed]",
      "text/plain": [
       "<PIL.Image.Image image mode=RGBA size=120x120 at 0x7FC3A031FC40>"
      ]
     },
     "execution_count": 14,
     "metadata": {},
     "output_type": "execute_result"
    }
   ],
   "source": [
    "# Test adding gaussian noise with 0 mean and unit variance\n",
    "add_noise(img)"
   ]
  },
  {
   "cell_type": "markdown",
   "id": "d0677ae435f81ce0",
   "metadata": {},
   "source": [
    "#### Zooming In"
   ]
  },
  {
   "cell_type": "code",
   "execution_count": 15,
   "id": "a11ff2d77d781e9a",
   "metadata": {},
   "outputs": [],
   "source": [
    "def img_zoom(img, scale_factor=2):\n",
    "    img_data = np.array(img)\n",
    "    h, w = img_data.shape[:2]\n",
    "\n",
    "    # Height and width midpoints\n",
    "    hm, wm = h / 2, w / 2\n",
    "\n",
    "    # Half of window size for height and width\n",
    "    hz, wz = h / (2 * scale_factor), w / (2 * scale_factor)\n",
    "\n",
    "    # Upper and lower bounds for height\n",
    "    uh, lh = int(hm - hz), int(hm + hz)\n",
    "    \n",
    "    # Upper and lower bounds for width\n",
    "    uw, lw = int(wm - wz), int(wm + wz)\n",
    "\n",
    "    # Resize cropped image to fit original size\n",
    "    zoomed_img = cv2.resize(img_data[uh:lh, uw:lw], dsize=(h, w))\n",
    "\n",
    "    return Image.fromarray(zoomed_img)"
   ]
  },
  {
   "cell_type": "code",
   "execution_count": 16,
   "id": "8e307111114d915",
   "metadata": {},
   "outputs": [
    {
     "data": {
      "image/png": "[encoded data removed]",
      "text/plain": [
       "<PIL.Image.Image image mode=RGBA size=120x120 at 0x7FC3A031A1F0>"
      ]
     },
     "execution_count": 16,
     "metadata": {},
     "output_type": "execute_result"
    }
   ],
   "source": [
    "# Test 4x zoom into image\n",
    "img_zoom(img, 4)"
   ]
  },
  {
   "cell_type": "markdown",
   "id": "58624568",
   "metadata": {},
   "source": [
    "## Organize Samples"
   ]
  },
  {
   "cell_type": "markdown",
   "id": "9f8f41aa",
   "metadata": {},
   "source": [
    "### Locations with images that are useful:\n",
    "* pokemon/main-sprites (png for all pixelated gen1 pokemon!)\n",
    "    * ./red-blue (red/blue version of sprites)\n",
    "    * ./red-green (red/green version of sprites)\n",
    "    * ./yellow (yellow version of sprites)\n",
    "    \n",
    "* pokedex/images/images (high def images)\n",
    "\n",
    "* pokemon/icons (pixelated images and root of below subfolders. Not all pokemon have them!)\n",
    "    * pokemon/icons/old (pixelated old images. Not all pokemon have them!)\n",
    "    * pokemon/icons/right (pixelated images flipped. Not all pokemon have them!)\n",
    "\n",
    "**Currently I only load all subfolders of pokemon/main-sprites because the images are pixelated and there is one for each pokemon**"
   ]
  },
  {
   "cell_type": "code",
   "execution_count": 20,
   "id": "37e6c431",
   "metadata": {},
   "outputs": [],
   "source": [
    "# Saves an image at the \"dest\" path with a unique name tracked by the \"counter\" dict.\n",
    "# img: The image to be saved\n",
    "# name: The name of the pokemon\n",
    "# ind: The index of the pokemon\n",
    "# dest: The destination. Which subfolder will the image be saved in\n",
    "# counter: A dictionary that keeps track of how many images are in each of the pokemon subfolders\n",
    "    # The image's file name is determined by this count, found by indexing the dict with pokemon's \"ind\"\n",
    "    # After each save, this function increment's the pokemon's counter by 1\n",
    "\n",
    "def smart_save(img, name, ind, dest, counter):\n",
    "    fname = name + str(counter[ind]) + \".png\"\n",
    "    img.save(dest + fname)\n",
    "    counter[ind] += 1"
   ]
  },
  {
   "cell_type": "code",
   "execution_count": 21,
   "id": "f548a75b",
   "metadata": {},
   "outputs": [],
   "source": [
    "# Organizes and augments samples to be used for training\n",
    "# start_ind/end_ind: The index range of the pokemon to be used for classification\n",
    "# pokedex: See above section \"Create Pokedex\". A pandas dataframe associating pokemon ind to name\n",
    "# augment: A dictionary where augment parameters are defined. Empty dict means only use source images w/out augment\n",
    "    # If the key \"rotate\" is present, include x rotated versions of the source images where x in the value\n",
    "        #associated with the key\n",
    "        \n",
    "def sample_data(start_ind, end_ind, pokedex, augment={}):\n",
    "    # Define the sources where images will be drawn from\n",
    "    sources = []\n",
    "    rb_sprites = \"./pokemon/main-sprites/red-blue/\"\n",
    "    sources.append(rb_sprites)\n",
    "    rg_sprites = \"./pokemon/main-sprites/red-green/\"\n",
    "    sources.append(rg_sprites)\n",
    "    y_sprites = \"./pokemon/main-sprites/yellow/\"\n",
    "    sources.append(y_sprites)\n",
    "    \n",
    "    # The file_counter keeps track of how many images are currently saved for each pokemon\n",
    "    # The keys in this case are the pokemon's index\n",
    "    file_counter = dict(enumerate([0] * (end_ind - start_ind)))\n",
    "    for ind in range(start_ind, end_ind):\n",
    "        # Use pokedex to get the pokemon's name and create the subfolder for its images\n",
    "        name = pokedex[\"Name\"][ind]\n",
    "        class_directory = './samples/' + name + \"/\"\n",
    "        if not os.path.exists(class_directory):\n",
    "            os.makedirs(class_directory)\n",
    "        \n",
    "        # indices start at 0 but pokemon id's start at 1. Define the source image using pokemon id\n",
    "        id_ = ind + 1\n",
    "        source_img = str(id_) + \".png\"\n",
    "        # For each source defined, open and save the image. Apply augmentations and save modified imgs if applicable\n",
    "        for source in sources:   \n",
    "            try:\n",
    "                img = Image.open(source + source_img)\n",
    "                smart_save(img, name, ind, class_directory, file_counter)\n",
    "                \n",
    "                # Augmentations begin here\n",
    "                rotations = 0 if \"rotate\" not in augment else augment[\"rotate\"]\n",
    "                zoom_params = [] if \"zoom\" not in augment else augment[\"zoom\"]\n",
    "                blur_params = [] if \"blur\" not in augment else augment[\"blur\"]\n",
    "                noise_params = [] if \"noise\" not in augment else augment[\"noise\"]\n",
    "                for _ in range(rotations):\n",
    "                    rot_img = img_rotate(img)\n",
    "                    smart_save(rot_img, name, ind, class_directory, file_counter)\n",
    "\n",
    "                    # Add zoom to current rotation of image\n",
    "                    for scale in zoom_params:\n",
    "                        rot_zoom = img_zoom(rot_img.convert('RGBA'), scale)\n",
    "                        smart_save(rot_zoom, name, ind, class_directory, file_counter)\n",
    "\n",
    "                        # Add noise to current zoomed, rotated image\n",
    "                        for mean, var in noise_params:\n",
    "                            rot_zoom_noise = add_noise(rot_zoom, mean, var)\n",
    "                            smart_save(rot_zoom_noise, name, ind, class_directory, file_counter)\n",
    "\n",
    "                    # Add blur to current rotation of image\n",
    "                    for blur in blur_params:\n",
    "                        rot_blur = gaussian_blur(rot_img.convert('RGBA'), blur)\n",
    "                        smart_save(rot_blur, name, ind, class_directory, file_counter)\n",
    "\n",
    "                        # Add noise to current blurred, rotated image\n",
    "                        for mean, var in noise_params:\n",
    "                            rot_blur_noise = add_noise(rot_blur, mean, var)\n",
    "                            smart_save(rot_blur_noise, name, ind, class_directory, file_counter)\n",
    "\n",
    "                # Zoom into image centered at (midHeight, midWidth)\n",
    "                #zoom_params = [] if \"zoom\" not in augment else augment[\"zoom\"]\n",
    "                for scale in zoom_params:\n",
    "                    zoom_img = img_zoom(img.convert('RGBA'), scale)\n",
    "                    smart_save(zoom_img, name, ind, class_directory, file_counter)\n",
    "\n",
    "                # Add gaussian blur to image\n",
    "                #blur_params = [] if \"blur\" not in augment else augment[\"blur\"]\n",
    "                for kernel in blur_params:\n",
    "                    blur_img = gaussian_blur(img.convert('RGBA'), kernel)\n",
    "                    smart_save(blur_img, name, ind, class_directory, file_counter)\n",
    "\n",
    "                # Add gaussian noise to image\n",
    "                #noise_params = [] if \"noise\" not in augment else augment[\"noise\"]\n",
    "                for mean, var in noise_params:\n",
    "                    noisy_img = add_noise(img.convert('RGBA'), mean, var)\n",
    "                    smart_save(noisy_img, name, ind, class_directory, file_counter)\n",
    "                    \n",
    "            except FileNotFoundError as e:\n",
    "                print(\"File not found:\", e.filename)\n",
    "                pass\n",
    "            \n",
    "            img.close()"
   ]
  },
  {
   "cell_type": "code",
   "execution_count": 36,
   "id": "b5a4bf4e",
   "metadata": {},
   "outputs": [],
   "source": [
    "# Store samples for the first 50 pokemon and for each source, include 2 rotated versions of the image\n",
    "sample_data(0, 50, pokedex, {\"rotate\": 2, \"zoom\": [1.25, 1.5, 1.75], \"blur\": [1.5, 2, 2.5]})"
   ]
  },
  {
   "cell_type": "code",
   "execution_count": null,
   "id": "6a4021a9",
   "metadata": {},
   "outputs": [],
   "source": []
  }
 ],
 "metadata": {
  "kernelspec": {
   "display_name": "Python 3 (ipykernel)",
   "language": "python",
   "name": "python3"
  },
  "language_info": {
   "codemirror_mode": {
    "name": "ipython",
    "version": 3
   },
   "file_extension": ".py",
   "mimetype": "text/x-python",
   "name": "python",
   "nbconvert_exporter": "python",
   "pygments_lexer": "ipython3",
   "version": "3.8.2"
  }
 },
 "nbformat": 4,
 "nbformat_minor": 5
}
