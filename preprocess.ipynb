{
 "cells": [
  {
   "cell_type": "markdown",
   "id": "bf36c9b9",
   "metadata": {},
   "source": [
    "# Preprocessing\n",
    "## Imports"
   ]
  },
  {
   "cell_type": "code",
   "execution_count": 69,
   "id": "f2e07ac4",
   "metadata": {},
   "outputs": [],
   "source": [
    "import numpy as np\n",
    "import matplotlib.pyplot as plt\n",
    "import matplotlib.image as mpimg\n",
    "import matplotlib.transforms as transforms\n",
    "import tarfile\n",
    "import pandas as pd\n",
    "from PIL import Image"
   ]
  },
  {
   "cell_type": "markdown",
   "id": "6ffef4b7",
   "metadata": {},
   "source": [
    "### Opening Data Files"
   ]
  },
  {
   "cell_type": "code",
   "execution_count": 5,
   "id": "4c120107",
   "metadata": {},
   "outputs": [],
   "source": [
    "def open_tar(filename, dest=None):\n",
    "    with tarfile.open(filename, 'r:gz') as tar:\n",
    "        if dest is None:\n",
    "            tar.extractall('./')\n",
    "        else:\n",
    "            tar.extractall(dest)\n",
    "    print(\"Extraction successful!\")"
   ]
  },
  {
   "cell_type": "markdown",
   "id": "03e2209d",
   "metadata": {},
   "source": [
    "Below extracts into pokemon/icons path"
   ]
  },
  {
   "cell_type": "code",
   "execution_count": 15,
   "id": "f09bf2d5",
   "metadata": {},
   "outputs": [
    {
     "name": "stdout",
     "output_type": "stream",
     "text": [
      "Extraction successful!\n"
     ]
    }
   ],
   "source": [
    "open_tar(\"./datasource/pokemon-icons.tar.gz\")"
   ]
  },
  {
   "cell_type": "markdown",
   "id": "69d96934",
   "metadata": {},
   "source": [
    "Below extracts into pokemon/main-sprites path"
   ]
  },
  {
   "cell_type": "code",
   "execution_count": 16,
   "id": "aeda3a53",
   "metadata": {},
   "outputs": [
    {
     "name": "stdout",
     "output_type": "stream",
     "text": [
      "Extraction successful!\n"
     ]
    }
   ],
   "source": [
    "open_tar(\"./datasource/generation-1.tar.gz\")"
   ]
  },
  {
   "cell_type": "markdown",
   "id": "d6f34e10",
   "metadata": {},
   "source": [
    "### Create Pokedex"
   ]
  },
  {
   "cell_type": "code",
   "execution_count": 20,
   "id": "ed219b91",
   "metadata": {},
   "outputs": [],
   "source": [
    "def make_pokedex(path=\"pokedex/pokemon.csv\"):\n",
    "    pokedex = pd.read_csv(path)\n",
    "    return pokedex"
   ]
  },
  {
   "cell_type": "code",
   "execution_count": 21,
   "id": "023e52ca",
   "metadata": {},
   "outputs": [
    {
     "name": "stdout",
     "output_type": "stream",
     "text": [
      "            Name     Type1   Type2\n",
      "0      bulbasaur     Grass  Poison\n",
      "1        ivysaur     Grass  Poison\n",
      "2       venusaur     Grass  Poison\n",
      "3     charmander      Fire     NaN\n",
      "4     charmeleon      Fire     NaN\n",
      "..           ...       ...     ...\n",
      "804    stakataka      Rock   Steel\n",
      "805  blacephalon      Fire   Ghost\n",
      "806      zeraora  Electric     NaN\n",
      "807       meltan     Steel     NaN\n",
      "808     melmetal     Steel     NaN\n",
      "\n",
      "[809 rows x 3 columns]\n"
     ]
    }
   ],
   "source": [
    "pokedex = make_pokedex()\n",
    "print(pokedex)"
   ]
  },
  {
   "cell_type": "code",
   "execution_count": 89,
   "id": "26bcda44",
   "metadata": {},
   "outputs": [
    {
     "data": {
      "text/plain": [
       "'dugtrio'"
      ]
     },
     "execution_count": 89,
     "metadata": {},
     "output_type": "execute_result"
    }
   ],
   "source": [
    "pokedex[\"Name\"][50]"
   ]
  },
  {
   "cell_type": "markdown",
   "id": "7cc5b542",
   "metadata": {},
   "source": [
    "## Image Augmentation"
   ]
  },
  {
   "cell_type": "code",
   "execution_count": 73,
   "id": "ce816a49",
   "metadata": {},
   "outputs": [],
   "source": [
    "# Sample image to test augmentations on\n",
    "img = Image.open(\"pokedex/images/images/abra.png\")\n",
    "img.show()"
   ]
  },
  {
   "cell_type": "code",
   "execution_count": 78,
   "id": "4339b88e",
   "metadata": {},
   "outputs": [],
   "source": [
    "def img_rotate(img, rot=None):\n",
    "    if rot is None:\n",
    "        rot = np.random.uniform(0, 360)\n",
    "    \n",
    "    rot_img = img.rotate(rot)\n",
    "\n",
    "    rot_img.show(title=\"Rotated Image\")"
   ]
  },
  {
   "cell_type": "code",
   "execution_count": 83,
   "id": "d99f057e",
   "metadata": {},
   "outputs": [],
   "source": [
    "# Test random rotation\n",
    "img_rotate(img)"
   ]
  },
  {
   "cell_type": "markdown",
   "id": "eede9be7",
   "metadata": {},
   "source": [
    "## Organize Samples"
   ]
  },
  {
   "cell_type": "markdown",
   "id": "183a569c",
   "metadata": {},
   "source": [
    "Locations with images that are useful:\n",
    "* pokedex/images/images (high def images)\n",
    "* pokemon/icons (pixelated images and root of below subfolders. Not all pokemon have them!)\n",
    "    * pokemon/icons/old (pixelated old images. Not all pokemon have them!)\n",
    "    * pokemon/icons/right (pixelated images flipped. Not all pokemon have them!)\n",
    "* pokemon/main-sprites (png for all pixelated gen1 pokemon!)\n",
    "    * ./red-blue (red/blue version of sprites)\n",
    "    * ./red-green (red/green version of sprites)\n",
    "    * ./yellow (yellow version of sprites)"
   ]
  },
  {
   "cell_type": "code",
   "execution_count": 90,
   "id": "2ca46aba",
   "metadata": {},
   "outputs": [],
   "source": [
    "def sample_data(start_id, end_id, pokedex, augment={}):\n",
    "    for id_ in range(start_id, end_id):\n",
    "        name = pokedex[\"Name\"][id_]\n",
    "        print(name)"
   ]
  },
  {
   "cell_type": "code",
   "execution_count": 91,
   "id": "9a226134",
   "metadata": {},
   "outputs": [
    {
     "name": "stdout",
     "output_type": "stream",
     "text": [
      "bulbasaur\n",
      "ivysaur\n",
      "venusaur\n",
      "charmander\n",
      "charmeleon\n",
      "charizard\n",
      "squirtle\n",
      "wartortle\n",
      "blastoise\n",
      "caterpie\n",
      "metapod\n",
      "butterfree\n",
      "weedle\n",
      "kakuna\n",
      "beedrill\n",
      "pidgey\n",
      "pidgeotto\n",
      "pidgeot\n",
      "rattata\n",
      "raticate\n",
      "spearow\n",
      "fearow\n",
      "ekans\n",
      "arbok\n",
      "pikachu\n",
      "raichu\n",
      "sandshrew\n",
      "sandslash\n",
      "nidoran-f\n",
      "nidorina\n",
      "nidoqueen\n",
      "nidoran-m\n",
      "nidorino\n",
      "nidoking\n",
      "clefairy\n",
      "clefable\n",
      "vulpix\n",
      "ninetales\n",
      "jigglypuff\n",
      "wigglytuff\n",
      "zubat\n",
      "golbat\n",
      "oddish\n",
      "gloom\n",
      "vileplume\n",
      "paras\n",
      "parasect\n",
      "venonat\n",
      "venomoth\n",
      "diglett\n"
     ]
    }
   ],
   "source": [
    "sample_data(0, 50, pokedex)"
   ]
  },
  {
   "cell_type": "code",
   "execution_count": null,
   "id": "128261a9",
   "metadata": {},
   "outputs": [],
   "source": []
  }
 ],
 "metadata": {
  "kernelspec": {
   "display_name": "Python 3 (ipykernel)",
   "language": "python",
   "name": "python3"
  },
  "language_info": {
   "codemirror_mode": {
    "name": "ipython",
    "version": 3
   },
   "file_extension": ".py",
   "mimetype": "text/x-python",
   "name": "python",
   "nbconvert_exporter": "python",
   "pygments_lexer": "ipython3",
   "version": "3.8.2"
  }
 },
 "nbformat": 4,
 "nbformat_minor": 5
}
