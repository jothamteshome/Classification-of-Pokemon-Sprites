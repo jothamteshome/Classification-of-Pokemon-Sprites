{
 "cells": [
  {
   "cell_type": "code",
   "execution_count": 178,
   "id": "initial_id",
   "metadata": {
    "collapsed": true,
    "ExecuteTime": {
     "end_time": "2023-11-16T23:31:20.202933100Z",
     "start_time": "2023-11-16T23:31:20.189303800Z"
    }
   },
   "outputs": [],
   "source": [
    "import torch\n",
    "import torch.nn as nn\n",
    "import torch.optim as optim\n",
    "import torchvision\n",
    "import torchvision.transforms as transforms\n",
    "from torch.utils.data import DataLoader, TensorDataset\n",
    "import os\n",
    "import pandas as pd\n",
    "import numpy as np\n",
    "from PIL import Image\n",
    "from matplotlib import pyplot as plt\n",
    "import cv2\n",
    "from sklearn.model_selection import train_test_split\n",
    "from tqdm import tqdm "
   ]
  },
  {
   "cell_type": "code",
   "execution_count": 159,
   "outputs": [],
   "source": [
    "class CNN(nn.Module):\n",
    "    def __init__(self, num_classes):\n",
    "        super(CNN, self).__init__()\n",
    "        self.features = nn.Sequential(\n",
    "            nn.Conv2d(3, 64, kernel_size=3, padding=1),\n",
    "            nn.ReLU(),\n",
    "            nn.Conv2d(64, 128, kernel_size=3, padding=1),\n",
    "            nn.ReLU(),\n",
    "            nn.MaxPool2d(kernel_size=2, stride=2),\n",
    "        )\n",
    "        self.classifier = nn.Sequential(\n",
    "            nn.Linear(128 * 25 * 25, 512),\n",
    "            nn.ReLU(),\n",
    "            nn.Linear(512, num_classes)\n",
    "        )\n",
    "        \n",
    "    def forward(self, x):\n",
    "        x = self.features(x)\n",
    "        x = x.view(-1, 128 * 25 * 25) # change based on image dimensions?\n",
    "        x = self.classifier(x)\n",
    "        return x   "
   ],
   "metadata": {
    "collapsed": false,
    "ExecuteTime": {
     "end_time": "2023-11-16T23:14:12.513810500Z",
     "start_time": "2023-11-16T23:14:12.502449700Z"
    }
   },
   "id": "8b759fe34bbd9a8a"
  },
  {
   "cell_type": "code",
   "execution_count": 125,
   "outputs": [],
   "source": [
    "def make_pokedex(path=\"pokedex/pokemon.csv\"):\n",
    "    pokedex = pd.read_csv(path)\n",
    "    return pokedex"
   ],
   "metadata": {
    "collapsed": false,
    "ExecuteTime": {
     "end_time": "2023-11-16T22:58:23.593097200Z",
     "start_time": "2023-11-16T22:58:23.579183900Z"
    }
   },
   "id": "4a6862f4ff4dd821"
  },
  {
   "cell_type": "code",
   "execution_count": 126,
   "outputs": [],
   "source": [
    "def pokemon_name_to_number(name):\n",
    "    pokedex = make_pokedex()\n",
    "    return pokedex.index[pokedex['Name'] == name].tolist()[0]"
   ],
   "metadata": {
    "collapsed": false,
    "ExecuteTime": {
     "end_time": "2023-11-16T22:58:30.178697Z",
     "start_time": "2023-11-16T22:58:30.164659100Z"
    }
   },
   "id": "ad2a70384c318d1d"
  },
  {
   "cell_type": "code",
   "execution_count": 127,
   "outputs": [],
   "source": [
    "def pokemon_number_to_name(number):\n",
    "    pokedex = make_pokedex()\n",
    "    return pokedex.iloc[number]['Name']"
   ],
   "metadata": {
    "collapsed": false,
    "ExecuteTime": {
     "end_time": "2023-11-16T22:58:36.967401300Z",
     "start_time": "2023-11-16T22:58:36.951401100Z"
    }
   },
   "id": "168c69d70043bf20"
  },
  {
   "cell_type": "code",
   "execution_count": 175,
   "outputs": [],
   "source": [
    "sprites_number_name = []\n",
    "for i_pokemon, pokemon in enumerate(os.listdir('samples')):\n",
    "    for i_img, img in enumerate(os.listdir(os.path.join('samples', pokemon))):\n",
    "        fp = os.path.join('samples', pokemon, img)\n",
    "        sprite_image = cv2.imread(fp)\n",
    "        resized_sprite_image = np.array(cv2.resize(sprite_image, (50, 50)))\n",
    "        pokemon_number = pokemon_name_to_number(pokemon)\n",
    "        sprites_number_name.append([resized_sprite_image, pokemon_number, pokemon])\n",
    "        \n",
    "# sprites_number_name = np.array(sprites_number_name)\n",
    "data = pd.DataFrame(sprites_number_name, columns = ['image', 'number', 'name'])"
   ],
   "metadata": {
    "collapsed": false,
    "ExecuteTime": {
     "end_time": "2023-11-16T23:29:06.200913Z",
     "start_time": "2023-11-16T23:29:05.372377700Z"
    }
   },
   "id": "467388624e0b4a91"
  },
  {
   "cell_type": "code",
   "execution_count": 129,
   "outputs": [
    {
     "name": "stdout",
     "output_type": "stream",
     "text": [
      "(50, 50, 3)\n"
     ]
    },
    {
     "data": {
      "text/plain": "<Figure size 432x288 with 1 Axes>",
      "image/png": "[encoded data removed]"
     },
     "metadata": {
      "needs_background": "light"
     },
     "output_type": "display_data"
    }
   ],
   "source": [
    "img1 = data.iloc[0]['image']\n",
    "print(img1.shape)\n",
    "plt.imshow(img1)\n",
    "plt.show()"
   ],
   "metadata": {
    "collapsed": false,
    "ExecuteTime": {
     "end_time": "2023-11-16T22:58:54.957721400Z",
     "start_time": "2023-11-16T22:58:54.854223600Z"
    }
   },
   "id": "c7ccd9ef97db9fd1"
  },
  {
   "cell_type": "code",
   "execution_count": 184,
   "outputs": [],
   "source": [
    "X = data['image']\n",
    "y = data['number']\n",
    "X_train, X_test, y_train, y_test = train_test_split(X, y, test_size=0.3, random_state=42)\n",
    "data_train = pd.concat([X_train, y_train], axis=1)\n",
    "data_test = pd.concat([X_test, y_test], axis=1)\n",
    "\n",
    "tensor_X_train = torch.stack([torch.tensor(img, dtype=torch.float32) for img in data_train['image'].values])\n",
    "tensor_X_train = torch.transpose(tensor_X_train, 1, 2)\n",
    "tensor_X_train = torch.transpose(tensor_X_train, 1, 3)\n",
    "tensor_y_train = torch.tensor(data_train['number'].values)\n",
    "tensor_train = TensorDataset(tensor_X_train, tensor_y_train)\n",
    "\n",
    "tensor_X_test = torch.stack([torch.tensor(img, dtype=torch.float32) for img in data_test['image'].values])\n",
    "tensor_X_test = torch.transpose(tensor_X_test, 1, 2)\n",
    "tensor_X_test = torch.transpose(tensor_X_test, 1, 3)\n",
    "tensor_y_test = torch.tensor(data_test['number'].values)\n",
    "tensor_test = TensorDataset(tensor_X_test, tensor_y_test)\n",
    "\n",
    "\n",
    "train_loader = DataLoader(tensor_train, batch_size=2, shuffle=True)\n",
    "test_loader = DataLoader(tensor_test, batch_size=2, shuffle=True)"
   ],
   "metadata": {
    "collapsed": false,
    "ExecuteTime": {
     "end_time": "2023-11-16T23:33:05.095219500Z",
     "start_time": "2023-11-16T23:33:05.071445100Z"
    }
   },
   "id": "eab32f0ebc997fe"
  },
  {
   "cell_type": "code",
   "execution_count": 171,
   "outputs": [],
   "source": [
    "cnn = CNN(num_classes=50)\n",
    "criterion = nn.CrossEntropyLoss()\n",
    "optimizer = optim.SGD(cnn.parameters(), lr=1e-3, momentum=0.9)"
   ],
   "metadata": {
    "collapsed": false,
    "ExecuteTime": {
     "end_time": "2023-11-16T23:17:36.407354Z",
     "start_time": "2023-11-16T23:17:36.175576700Z"
    }
   },
   "id": "e9a34dfcc1970bbd"
  },
  {
   "cell_type": "code",
   "execution_count": 188,
   "outputs": [
    {
     "name": "stderr",
     "output_type": "stream",
     "text": [
      "100%|██████████| 158/158 [00:34<00:00,  4.63it/s]\n"
     ]
    },
    {
     "name": "stdout",
     "output_type": "stream",
     "text": [
      "Epoch 1 loss: nan\n"
     ]
    },
    {
     "name": "stderr",
     "output_type": "stream",
     "text": [
      "100%|██████████| 158/158 [00:35<00:00,  4.40it/s]\n"
     ]
    },
    {
     "name": "stdout",
     "output_type": "stream",
     "text": [
      "Epoch 2 loss: nan\n"
     ]
    },
    {
     "name": "stderr",
     "output_type": "stream",
     "text": [
      "100%|██████████| 158/158 [00:34<00:00,  4.61it/s]\n"
     ]
    },
    {
     "name": "stdout",
     "output_type": "stream",
     "text": [
      "Epoch 3 loss: nan\n"
     ]
    },
    {
     "name": "stderr",
     "output_type": "stream",
     "text": [
      "100%|██████████| 158/158 [00:34<00:00,  4.58it/s]\n"
     ]
    },
    {
     "name": "stdout",
     "output_type": "stream",
     "text": [
      "Epoch 4 loss: nan\n"
     ]
    },
    {
     "name": "stderr",
     "output_type": "stream",
     "text": [
      "100%|██████████| 158/158 [00:31<00:00,  5.02it/s]"
     ]
    },
    {
     "name": "stdout",
     "output_type": "stream",
     "text": [
      "Epoch 5 loss: nan\n",
      "Done!\n"
     ]
    },
    {
     "name": "stderr",
     "output_type": "stream",
     "text": [
      "\n"
     ]
    }
   ],
   "source": [
    "for epoch in range(5):\n",
    "    running_loss = []\n",
    "    for inputs, labels in tqdm(train_loader):\n",
    "        optimizer.zero_grad()\n",
    "        pred = cnn(inputs)\n",
    "        loss = criterion(pred, labels)\n",
    "        running_loss.append(loss.item())\n",
    "        loss.backward()\n",
    "        optimizer.step()\n",
    "                \n",
    "    print(\"Epoch {} loss: {}\".format(epoch + 1, np.mean(running_loss)))\n",
    "\n",
    "print(\"Done!\")   "
   ],
   "metadata": {
    "collapsed": false,
    "ExecuteTime": {
     "end_time": "2023-11-16T23:45:28.579391500Z",
     "start_time": "2023-11-16T23:42:38.160960200Z"
    }
   },
   "id": "25a1762d9a4cad7f"
  },
  {
   "cell_type": "code",
   "execution_count": null,
   "outputs": [],
   "source": [
    "correct = 0\n",
    "total = 0\n",
    "with torch.no_grad():\n",
    "    for data in test_loader:\n",
    "        "
   ],
   "metadata": {
    "collapsed": false
   },
   "id": "e10d7f618ddc439e"
  }
 ],
 "metadata": {
  "kernelspec": {
   "display_name": "Python 3",
   "language": "python",
   "name": "python3"
  },
  "language_info": {
   "codemirror_mode": {
    "name": "ipython",
    "version": 2
   },
   "file_extension": ".py",
   "mimetype": "text/x-python",
   "name": "python",
   "nbconvert_exporter": "python",
   "pygments_lexer": "ipython2",
   "version": "2.7.6"
  }
 },
 "nbformat": 4,
 "nbformat_minor": 5
}
