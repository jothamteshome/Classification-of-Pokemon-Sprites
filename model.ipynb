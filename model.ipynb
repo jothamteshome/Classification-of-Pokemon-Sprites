{
 "cells": [
  {
   "cell_type": "code",
   "execution_count": 54,
   "metadata": {},
   "outputs": [
    {
     "name": "stdout",
     "output_type": "stream",
     "text": [
      "Requirement already satisfied: torch in c:\\users\\jotha\\anaconda3\\lib\\site-packages (2.1.1)Note: you may need to restart the kernel to use updated packages.\n",
      "\n",
      "Requirement already satisfied: torchvision in c:\\users\\jotha\\anaconda3\\lib\\site-packages (0.16.1)\n",
      "Requirement already satisfied: filelock in c:\\users\\jotha\\anaconda3\\lib\\site-packages (from torch) (3.9.0)\n",
      "Requirement already satisfied: typing-extensions in c:\\users\\jotha\\anaconda3\\lib\\site-packages (from torch) (4.7.1)\n",
      "Requirement already satisfied: sympy in c:\\users\\jotha\\anaconda3\\lib\\site-packages (from torch) (1.11.1)\n",
      "Requirement already satisfied: networkx in c:\\users\\jotha\\anaconda3\\lib\\site-packages (from torch) (3.1)\n",
      "Requirement already satisfied: jinja2 in c:\\users\\jotha\\anaconda3\\lib\\site-packages (from torch) (3.1.2)\n",
      "Requirement already satisfied: fsspec in c:\\users\\jotha\\anaconda3\\lib\\site-packages (from torch) (2023.3.0)\n",
      "Requirement already satisfied: numpy in c:\\users\\jotha\\anaconda3\\lib\\site-packages (from torchvision) (1.24.3)\n",
      "Requirement already satisfied: requests in c:\\users\\jotha\\anaconda3\\lib\\site-packages (from torchvision) (2.31.0)\n",
      "Requirement already satisfied: pillow!=8.3.*,>=5.3.0 in c:\\users\\jotha\\anaconda3\\lib\\site-packages (from torchvision) (9.4.0)\n",
      "Requirement already satisfied: MarkupSafe>=2.0 in c:\\users\\jotha\\anaconda3\\lib\\site-packages (from jinja2->torch) (2.1.1)\n",
      "Requirement already satisfied: charset-normalizer<4,>=2 in c:\\users\\jotha\\anaconda3\\lib\\site-packages (from requests->torchvision) (2.0.4)\n",
      "Requirement already satisfied: idna<4,>=2.5 in c:\\users\\jotha\\anaconda3\\lib\\site-packages (from requests->torchvision) (3.4)\n",
      "Requirement already satisfied: urllib3<3,>=1.21.1 in c:\\users\\jotha\\anaconda3\\lib\\site-packages (from requests->torchvision) (1.26.16)\n",
      "Requirement already satisfied: certifi>=2017.4.17 in c:\\users\\jotha\\anaconda3\\lib\\site-packages (from requests->torchvision) (2023.7.22)\n",
      "Requirement already satisfied: mpmath>=0.19 in c:\\users\\jotha\\anaconda3\\lib\\site-packages (from sympy->torch) (1.3.0)\n"
     ]
    }
   ],
   "source": [
    "%pip install torch torchvision"
   ]
  },
  {
   "cell_type": "code",
   "execution_count": 55,
   "id": "initial_id",
   "metadata": {
    "ExecuteTime": {
     "end_time": "2023-11-16T23:31:20.202933100Z",
     "start_time": "2023-11-16T23:31:20.189303800Z"
    },
    "collapsed": true
   },
   "outputs": [],
   "source": [
    "import torch\n",
    "import torch.nn as nn\n",
    "import torch.optim as optim\n",
    "import torchvision\n",
    "import torchvision.transforms as transforms\n",
    "from torch.utils.data import DataLoader, TensorDataset\n",
    "import os\n",
    "import pandas as pd\n",
    "import numpy as np\n",
    "import hashlib\n",
    "from PIL import Image\n",
    "from matplotlib import pyplot as plt\n",
    "import cv2\n",
    "from sklearn.model_selection import train_test_split\n",
    "from tqdm import tqdm "
   ]
  },
  {
   "cell_type": "code",
   "execution_count": 56,
   "id": "8b759fe34bbd9a8a",
   "metadata": {
    "ExecuteTime": {
     "end_time": "2023-11-16T23:14:12.513810500Z",
     "start_time": "2023-11-16T23:14:12.502449700Z"
    },
    "collapsed": false
   },
   "outputs": [],
   "source": [
    "class CNN(nn.Module):\n",
    "    def __init__(self, num_classes):\n",
    "        super(CNN, self).__init__()\n",
    "        self.features = nn.Sequential(\n",
    "            nn.Conv2d(3, 64, kernel_size=3, padding=1),\n",
    "            nn.ReLU(),\n",
    "            nn.Conv2d(64, 128, kernel_size=3, padding=1),\n",
    "            nn.ReLU(),\n",
    "            nn.MaxPool2d(kernel_size=2, stride=2),\n",
    "        )\n",
    "        self.classifier = nn.Sequential(\n",
    "            nn.Linear(128 * 25 * 25, 512),\n",
    "            nn.ReLU(),\n",
    "            nn.Linear(512, num_classes)\n",
    "        )\n",
    "        \n",
    "    def forward(self, x):\n",
    "        x = self.features(x)\n",
    "        x = x.view(-1, 128 * 25 * 25) # change based on image dimensions?\n",
    "        x = self.classifier(x)\n",
    "        return x   "
   ]
  },
  {
   "cell_type": "code",
   "execution_count": 57,
   "id": "4a6862f4ff4dd821",
   "metadata": {
    "ExecuteTime": {
     "end_time": "2023-11-16T22:58:23.593097200Z",
     "start_time": "2023-11-16T22:58:23.579183900Z"
    },
    "collapsed": false
   },
   "outputs": [],
   "source": [
    "def make_pokedex(path=\"pokedex/pokemon.csv\"):\n",
    "    pokedex = pd.read_csv(path)\n",
    "    return pokedex"
   ]
  },
  {
   "cell_type": "code",
   "execution_count": 58,
   "id": "ad2a70384c318d1d",
   "metadata": {
    "ExecuteTime": {
     "end_time": "2023-11-16T22:58:30.178697Z",
     "start_time": "2023-11-16T22:58:30.164659100Z"
    },
    "collapsed": false
   },
   "outputs": [],
   "source": [
    "def pokemon_name_to_number(name):\n",
    "    pokedex = make_pokedex()\n",
    "    return pokedex.index[pokedex['Name'] == name].tolist()[0]"
   ]
  },
  {
   "cell_type": "code",
   "execution_count": 59,
   "id": "168c69d70043bf20",
   "metadata": {
    "ExecuteTime": {
     "end_time": "2023-11-16T22:58:36.967401300Z",
     "start_time": "2023-11-16T22:58:36.951401100Z"
    },
    "collapsed": false
   },
   "outputs": [],
   "source": [
    "def pokemon_number_to_name(number):\n",
    "    pokedex = make_pokedex()\n",
    "    return pokedex.iloc[number]['Name']"
   ]
  },
  {
   "cell_type": "code",
   "execution_count": 60,
   "id": "467388624e0b4a91",
   "metadata": {
    "ExecuteTime": {
     "end_time": "2023-11-16T23:29:06.200913Z",
     "start_time": "2023-11-16T23:29:05.372377700Z"
    },
    "collapsed": false
   },
   "outputs": [],
   "source": [
    "sprites_number_name = []\n",
    "for i_pokemon, pokemon in enumerate(os.listdir('samples')):\n",
    "    for i_img, img in enumerate(os.listdir(os.path.join('samples', pokemon))):\n",
    "        fp = os.path.join('samples', pokemon, img)\n",
    "        sprite_image = cv2.imread(fp)\n",
    "        resized_sprite_image = np.array(cv2.resize(sprite_image, (50, 50)))\n",
    "        pokemon_number = pokemon_name_to_number(pokemon)\n",
    "        sprites_number_name.append([resized_sprite_image, pokemon_number, pokemon])\n",
    "        \n",
    "# sprites_number_name = np.array(sprites_number_name)\n",
    "data = pd.DataFrame(sprites_number_name, columns = ['image', 'number', 'name'])"
   ]
  },
  {
   "cell_type": "markdown",
   "metadata": {},
   "source": [
    "## Check for duplicate images"
   ]
  },
  {
   "cell_type": "code",
   "execution_count": 61,
   "metadata": {},
   "outputs": [],
   "source": [
    "def hash_image(image):\n",
    "    # Convert the image array to bytes and then create an MD5 hash\n",
    "    return hashlib.md5(image.tobytes()).hexdigest()\n",
    "\n",
    "# Create a dictionary to store hashes and corresponding indices\n",
    "hash_dict = {}\n",
    "\n",
    "# Iterate through each image in the array\n",
    "for i, image in enumerate(data['image']):\n",
    "    # Get the hash of the current image\n",
    "    image_hash = hash_image(image)\n",
    "\n",
    "    # Check if the hash already exists in the dictionary\n",
    "    if image_hash in hash_dict:\n",
    "        hash_dict[image_hash].append(i)\n",
    "    else:\n",
    "        # If the hash is not in the dictionary, add it with the current index\n",
    "        hash_dict[image_hash] = [i]"
   ]
  },
  {
   "cell_type": "code",
   "execution_count": 62,
   "metadata": {},
   "outputs": [],
   "source": [
    "# Locate duplicate entries in the dataframe\n",
    "duplicate_loc = [hash_dict[hash][1] for hash in hash_dict if len(hash_dict[hash]) > 1]\n",
    "\n",
    "# Drop duplicate entries\n",
    "data.drop(duplicate_loc, axis=0, inplace=True)"
   ]
  },
  {
   "cell_type": "markdown",
   "metadata": {},
   "source": [
    "#"
   ]
  },
  {
   "cell_type": "code",
   "execution_count": 63,
   "id": "c7ccd9ef97db9fd1",
   "metadata": {
    "ExecuteTime": {
     "end_time": "2023-11-16T22:58:54.957721400Z",
     "start_time": "2023-11-16T22:58:54.854223600Z"
    },
    "collapsed": false
   },
   "outputs": [
    {
     "name": "stdout",
     "output_type": "stream",
     "text": [
      "(50, 50, 3)\n"
     ]
    },
    {
     "data": {
      "image/png": "[encoded data removed]",
      "text/plain": [
       "<Figure size 640x480 with 1 Axes>"
      ]
     },
     "metadata": {},
     "output_type": "display_data"
    }
   ],
   "source": [
    "img1 = data.iloc[0]['image']\n",
    "print(img1.shape)\n",
    "plt.imshow(img1)\n",
    "plt.show()"
   ]
  },
  {
   "cell_type": "code",
   "execution_count": 64,
   "id": "eab32f0ebc997fe",
   "metadata": {
    "ExecuteTime": {
     "end_time": "2023-11-16T23:33:05.095219500Z",
     "start_time": "2023-11-16T23:33:05.071445100Z"
    },
    "collapsed": false
   },
   "outputs": [],
   "source": [
    "X = data['image']\n",
    "y = data['number']\n",
    "X_train, X_test, y_train, y_test = train_test_split(X, y, test_size=0.3, random_state=42)\n",
    "data_train = pd.concat([X_train, y_train], axis=1)\n",
    "data_test = pd.concat([X_test, y_test], axis=1)\n",
    "\n",
    "tensor_X_train = torch.stack([torch.tensor(img, dtype=torch.float32) for img in data_train['image'].values])\n",
    "tensor_X_train = torch.transpose(tensor_X_train, 1, 2)\n",
    "tensor_X_train = torch.transpose(tensor_X_train, 1, 3)\n",
    "tensor_y_train = torch.tensor(data_train['number'].values)\n",
    "tensor_train = TensorDataset(tensor_X_train, tensor_y_train)\n",
    "\n",
    "tensor_X_test = torch.stack([torch.tensor(img, dtype=torch.float32) for img in data_test['image'].values])\n",
    "tensor_X_test = torch.transpose(tensor_X_test, 1, 2)\n",
    "tensor_X_test = torch.transpose(tensor_X_test, 1, 3)\n",
    "tensor_y_test = torch.tensor(data_test['number'].values)\n",
    "tensor_test = TensorDataset(tensor_X_test, tensor_y_test)\n",
    "\n",
    "\n",
    "train_loader = DataLoader(tensor_train, batch_size=16, shuffle=True)\n",
    "test_loader = DataLoader(tensor_test, batch_size=16, shuffle=True)"
   ]
  },
  {
   "cell_type": "code",
   "execution_count": 65,
   "id": "e9a34dfcc1970bbd",
   "metadata": {
    "ExecuteTime": {
     "end_time": "2023-11-16T23:17:36.407354Z",
     "start_time": "2023-11-16T23:17:36.175576700Z"
    },
    "collapsed": false
   },
   "outputs": [],
   "source": [
    "cnn = CNN(num_classes=50)\n",
    "criterion = nn.CrossEntropyLoss()\n",
    "optimizer = optim.SGD(cnn.parameters(), lr=1e-4, momentum=0.9)"
   ]
  },
  {
   "cell_type": "code",
   "execution_count": 66,
   "id": "25a1762d9a4cad7f",
   "metadata": {
    "ExecuteTime": {
     "end_time": "2023-11-16T23:45:28.579391500Z",
     "start_time": "2023-11-16T23:42:38.160960200Z"
    },
    "collapsed": false
   },
   "outputs": [
    {
     "name": "stderr",
     "output_type": "stream",
     "text": [
      "100%|██████████| 136/136 [00:31<00:00,  4.34it/s]\n"
     ]
    },
    {
     "name": "stdout",
     "output_type": "stream",
     "text": [
      "Epoch 1 loss: 6.682770767632653\n"
     ]
    },
    {
     "name": "stderr",
     "output_type": "stream",
     "text": [
      "100%|██████████| 136/136 [00:29<00:00,  4.54it/s]\n"
     ]
    },
    {
     "name": "stdout",
     "output_type": "stream",
     "text": [
      "Epoch 2 loss: 2.8750860287862667\n"
     ]
    },
    {
     "name": "stderr",
     "output_type": "stream",
     "text": [
      "100%|██████████| 136/136 [00:30<00:00,  4.50it/s]\n"
     ]
    },
    {
     "name": "stdout",
     "output_type": "stream",
     "text": [
      "Epoch 3 loss: 1.8602439379867386\n"
     ]
    },
    {
     "name": "stderr",
     "output_type": "stream",
     "text": [
      "100%|██████████| 136/136 [00:30<00:00,  4.48it/s]\n"
     ]
    },
    {
     "name": "stdout",
     "output_type": "stream",
     "text": [
      "Epoch 4 loss: 1.0986347689348108\n"
     ]
    },
    {
     "name": "stderr",
     "output_type": "stream",
     "text": [
      "100%|██████████| 136/136 [00:30<00:00,  4.46it/s]\n"
     ]
    },
    {
     "name": "stdout",
     "output_type": "stream",
     "text": [
      "Epoch 5 loss: 0.678133769727805\n"
     ]
    },
    {
     "name": "stderr",
     "output_type": "stream",
     "text": [
      "100%|██████████| 136/136 [00:31<00:00,  4.25it/s]\n"
     ]
    },
    {
     "name": "stdout",
     "output_type": "stream",
     "text": [
      "Epoch 6 loss: 0.37986173250657673\n"
     ]
    },
    {
     "name": "stderr",
     "output_type": "stream",
     "text": [
      "100%|██████████| 136/136 [00:35<00:00,  3.85it/s]\n"
     ]
    },
    {
     "name": "stdout",
     "output_type": "stream",
     "text": [
      "Epoch 7 loss: 0.19574234365513\n"
     ]
    },
    {
     "name": "stderr",
     "output_type": "stream",
     "text": [
      "100%|██████████| 136/136 [00:35<00:00,  3.82it/s]\n"
     ]
    },
    {
     "name": "stdout",
     "output_type": "stream",
     "text": [
      "Epoch 8 loss: 0.11939206968664247\n"
     ]
    },
    {
     "name": "stderr",
     "output_type": "stream",
     "text": [
      "100%|██████████| 136/136 [00:35<00:00,  3.83it/s]\n"
     ]
    },
    {
     "name": "stdout",
     "output_type": "stream",
     "text": [
      "Epoch 9 loss: 0.09633990354247063\n"
     ]
    },
    {
     "name": "stderr",
     "output_type": "stream",
     "text": [
      "100%|██████████| 136/136 [00:35<00:00,  3.82it/s]\n"
     ]
    },
    {
     "name": "stdout",
     "output_type": "stream",
     "text": [
      "Epoch 10 loss: 0.12895749233532972\n"
     ]
    },
    {
     "name": "stderr",
     "output_type": "stream",
     "text": [
      "100%|██████████| 136/136 [00:35<00:00,  3.82it/s]\n"
     ]
    },
    {
     "name": "stdout",
     "output_type": "stream",
     "text": [
      "Epoch 11 loss: 0.05059561837611802\n"
     ]
    },
    {
     "name": "stderr",
     "output_type": "stream",
     "text": [
      "100%|██████████| 136/136 [00:35<00:00,  3.81it/s]\n"
     ]
    },
    {
     "name": "stdout",
     "output_type": "stream",
     "text": [
      "Epoch 12 loss: 0.024291176280445036\n"
     ]
    },
    {
     "name": "stderr",
     "output_type": "stream",
     "text": [
      "100%|██████████| 136/136 [00:35<00:00,  3.81it/s]\n"
     ]
    },
    {
     "name": "stdout",
     "output_type": "stream",
     "text": [
      "Epoch 13 loss: 0.010819638935251586\n"
     ]
    },
    {
     "name": "stderr",
     "output_type": "stream",
     "text": [
      "100%|██████████| 136/136 [00:36<00:00,  3.75it/s]\n"
     ]
    },
    {
     "name": "stdout",
     "output_type": "stream",
     "text": [
      "Epoch 14 loss: 0.006393743186730289\n"
     ]
    },
    {
     "name": "stderr",
     "output_type": "stream",
     "text": [
      "100%|██████████| 136/136 [00:36<00:00,  3.73it/s]"
     ]
    },
    {
     "name": "stdout",
     "output_type": "stream",
     "text": [
      "Epoch 15 loss: 0.004747806825488463\n",
      "Done!\n"
     ]
    },
    {
     "name": "stderr",
     "output_type": "stream",
     "text": [
      "\n"
     ]
    }
   ],
   "source": [
    "for epoch in range(15):\n",
    "    running_loss = []\n",
    "    for inputs, labels in tqdm(train_loader):\n",
    "        optimizer.zero_grad()\n",
    "        pred = cnn(inputs)\n",
    "        loss = criterion(pred, labels)\n",
    "        running_loss.append(loss.item())\n",
    "        loss.backward()\n",
    "        optimizer.step()\n",
    "                \n",
    "    print(\"Epoch {} loss: {}\".format(epoch + 1, np.mean(running_loss)))\n",
    "\n",
    "print(\"Done!\")   "
   ]
  },
  {
   "cell_type": "code",
   "execution_count": 68,
   "id": "e10d7f618ddc439e",
   "metadata": {
    "collapsed": false
   },
   "outputs": [
    {
     "name": "stdout",
     "output_type": "stream",
     "text": [
      "Test Acccuracy: 0.7233584499461787\n"
     ]
    }
   ],
   "source": [
    "correct = 0\n",
    "total = 0\n",
    "cnn.eval()\n",
    "eval_running_loss = []\n",
    "with torch.no_grad():\n",
    "    for batch, label in test_loader:\n",
    "        pred = cnn(batch)\n",
    "        eval_loss = criterion(pred, label)\n",
    "        eval_running_loss.append(eval_loss.item())\n",
    "        correct += (torch.argmax(pred,dim=1)==label).sum().item()\n",
    "acc = correct/len(test_loader.dataset)\n",
    "print(f\"Test Acccuracy: {acc}\")"
   ]
  }
 ],
 "metadata": {
  "kernelspec": {
   "display_name": "Python 3",
   "language": "python",
   "name": "python3"
  },
  "language_info": {
   "codemirror_mode": {
    "name": "ipython",
    "version": 3
   },
   "file_extension": ".py",
   "mimetype": "text/x-python",
   "name": "python",
   "nbconvert_exporter": "python",
   "pygments_lexer": "ipython3",
   "version": "3.11.4"
  }
 },
 "nbformat": 4,
 "nbformat_minor": 5
}
