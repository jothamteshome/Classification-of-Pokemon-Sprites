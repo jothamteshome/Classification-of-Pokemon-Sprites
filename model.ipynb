{
 "cells": [
  {
   "cell_type": "code",
   "execution_count": 50,
   "id": "e5a77d40e9246ef2",
   "metadata": {},
   "outputs": [
    {
     "name": "stdout",
     "output_type": "stream",
     "text": [
      "Requirement already satisfied: torch in c:\\users\\jotha\\anaconda3\\lib\\site-packages (2.1.1)\n",
      "Requirement already satisfied: torchvision in c:\\users\\jotha\\anaconda3\\lib\\site-packages (0.16.1)\n",
      "Requirement already satisfied: filelock in c:\\users\\jotha\\anaconda3\\lib\\site-packages (from torch) (3.9.0)\n",
      "Requirement already satisfied: typing-extensions in c:\\users\\jotha\\anaconda3\\lib\\site-packages (from torch) (4.7.1)\n",
      "Requirement already satisfied: sympy in c:\\users\\jotha\\anaconda3\\lib\\site-packages (from torch) (1.11.1)\n",
      "Requirement already satisfied: networkx in c:\\users\\jotha\\anaconda3\\lib\\site-packages (from torch) (3.1)\n",
      "Requirement already satisfied: jinja2 in c:\\users\\jotha\\anaconda3\\lib\\site-packages (from torch) (3.1.2)\n",
      "Requirement already satisfied: fsspec in c:\\users\\jotha\\anaconda3\\lib\\site-packages (from torch) (2023.3.0)\n",
      "Requirement already satisfied: numpy in c:\\users\\jotha\\anaconda3\\lib\\site-packages (from torchvision) (1.24.3)\n",
      "Requirement already satisfied: requests in c:\\users\\jotha\\anaconda3\\lib\\site-packages (from torchvision) (2.31.0)\n",
      "Requirement already satisfied: pillow!=8.3.*,>=5.3.0 in c:\\users\\jotha\\anaconda3\\lib\\site-packages (from torchvision) (9.4.0)\n",
      "Requirement already satisfied: MarkupSafe>=2.0 in c:\\users\\jotha\\anaconda3\\lib\\site-packages (from jinja2->torch) (2.1.1)\n",
      "Requirement already satisfied: charset-normalizer<4,>=2 in c:\\users\\jotha\\anaconda3\\lib\\site-packages (from requests->torchvision) (2.0.4)\n",
      "Requirement already satisfied: idna<4,>=2.5 in c:\\users\\jotha\\anaconda3\\lib\\site-packages (from requests->torchvision) (3.4)\n",
      "Requirement already satisfied: urllib3<3,>=1.21.1 in c:\\users\\jotha\\anaconda3\\lib\\site-packages (from requests->torchvision) (1.26.16)\n",
      "Requirement already satisfied: certifi>=2017.4.17 in c:\\users\\jotha\\anaconda3\\lib\\site-packages (from requests->torchvision) (2023.7.22)\n",
      "Requirement already satisfied: mpmath>=0.19 in c:\\users\\jotha\\anaconda3\\lib\\site-packages (from sympy->torch) (1.3.0)\n",
      "Note: you may need to restart the kernel to use updated packages.\n"
     ]
    }
   ],
   "source": [
    "%pip install torch torchvision"
   ]
  },
  {
   "cell_type": "code",
   "execution_count": 1,
   "id": "initial_id",
   "metadata": {
    "ExecuteTime": {
     "end_time": "2023-12-04T23:21:34.042674800Z",
     "start_time": "2023-12-04T23:21:26.576753400Z"
    }
   },
   "outputs": [],
   "source": [
    "import torch\n",
    "import torch.nn as nn\n",
    "import torch.optim as optim\n",
    "import torchvision\n",
    "import torchvision.transforms as transforms\n",
    "from torch.utils.data import DataLoader, TensorDataset\n",
    "import os\n",
    "import pandas as pd\n",
    "import numpy as np\n",
    "import hashlib\n",
    "from PIL import Image\n",
    "from matplotlib import pyplot as plt\n",
    "import cv2\n",
    "from sklearn.model_selection import train_test_split\n",
    "from tqdm import tqdm \n",
    "from sklearn.metrics import accuracy_score, precision_score, recall_score, f1_score, classification_report\n",
    "from torchviz import make_dot\n",
    "f"
   ]
  },
  {
   "cell_type": "markdown",
   "id": "cf4906357c6b3a3b",
   "metadata": {},
   "source": [
    "# Pokedex functions"
   ]
  },
  {
   "cell_type": "code",
   "execution_count": 2,
   "id": "4a6862f4ff4dd821",
   "metadata": {
    "ExecuteTime": {
     "end_time": "2023-12-04T23:21:38.585478100Z",
     "start_time": "2023-12-04T23:21:38.560478900Z"
    }
   },
   "outputs": [],
   "source": [
    "def make_pokedex(path=\"pokedex/pokemon.csv\"):\n",
    "    pokedex = pd.read_csv(path)\n",
    "    return pokedex"
   ]
  },
  {
   "cell_type": "code",
   "execution_count": 3,
   "id": "ad2a70384c318d1d",
   "metadata": {
    "ExecuteTime": {
     "end_time": "2023-12-04T23:21:38.860164900Z",
     "start_time": "2023-12-04T23:21:38.840143500Z"
    }
   },
   "outputs": [],
   "source": [
    "# converts pokemon's name to corresponding pokemon's pokedex number\n",
    "def pokemon_name_to_number(name):\n",
    "    pokedex = make_pokedex()\n",
    "    return pokedex.index[pokedex['Name'] == name].tolist()[0]"
   ]
  },
  {
   "cell_type": "code",
   "execution_count": 4,
   "id": "168c69d70043bf20",
   "metadata": {
    "ExecuteTime": {
     "end_time": "2023-12-04T23:21:39.100807500Z",
     "start_time": "2023-12-04T23:21:39.043825700Z"
    }
   },
   "outputs": [],
   "source": [
    "# converts pokemon's pokedex number to corresponding pokemon's name\n",
    "def pokemon_number_to_name(number):\n",
    "    pokedex = make_pokedex()\n",
    "    return pokedex.iloc[number]['Name']"
   ]
  },
  {
   "cell_type": "markdown",
   "id": "2040123f69a4e1ee",
   "metadata": {},
   "source": [
    "# Load Pokemon sprite data"
   ]
  },
  {
   "cell_type": "code",
   "execution_count": 41,
   "id": "467388624e0b4a91",
   "metadata": {
    "ExecuteTime": {
     "end_time": "2023-12-05T02:13:40.740259100Z",
     "start_time": "2023-12-05T02:13:35.678273900Z"
    }
   },
   "outputs": [],
   "source": [
    "sprites_number_name = []\n",
    "# iterate over pokemon in sample directory\n",
    "for i_pokemon, pokemon in enumerate(os.listdir('samples')):\n",
    "    # iterate over images in each pokemon's directory\n",
    "    if pokemon_name_to_number(pokemon) <= 10:\n",
    "        # print(pokemon)\n",
    "        for i_img, img in enumerate(os.listdir(os.path.join('samples', pokemon))):\n",
    "            fp = os.path.join('samples', pokemon, img)\n",
    "            # read in image\n",
    "            sprite_image = cv2.imread(fp)\n",
    "            # resize and convert image to np array\n",
    "            resized_sprite_image = np.array(cv2.resize(sprite_image, (50, 50)))\n",
    "            # convert to pokemon's pokedex number\n",
    "            pokemon_number = pokemon_name_to_number(pokemon)\n",
    "            # store image, number, name in cumulative list of other images\n",
    "            sprites_number_name.append([resized_sprite_image, pokemon_number, pokemon])\n",
    "\n",
    "# convert to pandas dataframe\n",
    "data = pd.DataFrame(sprites_number_name, columns = ['image', 'number', 'name'])"
   ]
  },
  {
   "cell_type": "markdown",
   "id": "218c98c13a38ada8",
   "metadata": {},
   "source": [
    "## Check for duplicate images"
   ]
  },
  {
   "cell_type": "code",
   "execution_count": 42,
   "id": "d0ceb88c30eebacb",
   "metadata": {
    "ExecuteTime": {
     "end_time": "2023-12-05T02:13:40.755340200Z",
     "start_time": "2023-12-05T02:13:40.743817600Z"
    }
   },
   "outputs": [],
   "source": [
    "def hash_image(image):\n",
    "    # Convert the image array to bytes and then create an MD5 hash\n",
    "    return hashlib.md5(image.tobytes()).hexdigest()\n",
    "\n",
    "# Create a dictionary to store hashes and corresponding indices\n",
    "hash_dict = {}\n",
    "\n",
    "# Iterate through each image in the array\n",
    "for i, image in enumerate(data['image']):\n",
    "    # Get the hash of the current image\n",
    "    image_hash = hash_image(image)\n",
    "\n",
    "    # Check if the hash already exists in the dictionary\n",
    "    if image_hash in hash_dict:\n",
    "        hash_dict[image_hash].append(i)\n",
    "    else:\n",
    "        # If the hash is not in the dictionary, add it with the current index\n",
    "        hash_dict[image_hash] = [i]"
   ]
  },
  {
   "cell_type": "code",
   "execution_count": 43,
   "id": "5d5f5501c569c125",
   "metadata": {
    "ExecuteTime": {
     "end_time": "2023-12-05T02:13:40.791083700Z",
     "start_time": "2023-12-05T02:13:40.761901500Z"
    }
   },
   "outputs": [],
   "source": [
    "# Locate duplicate entries in the dataframe\n",
    "duplicate_loc = [hash_dict[hash][1] for hash in hash_dict if len(hash_dict[hash]) > 1]\n",
    "\n",
    "# Drop duplicate entries\n",
    "data.drop(duplicate_loc, axis=0, inplace=True)"
   ]
  },
  {
   "cell_type": "markdown",
   "id": "35b18e89970469d3",
   "metadata": {},
   "source": [
    "## Test Displaying Image"
   ]
  },
  {
   "cell_type": "code",
   "execution_count": 44,
   "id": "c7ccd9ef97db9fd1",
   "metadata": {
    "ExecuteTime": {
     "end_time": "2023-12-05T02:13:56.723702200Z",
     "start_time": "2023-12-05T02:13:56.143218700Z"
    }
   },
   "outputs": [
    {
     "name": "stdout",
     "output_type": "stream",
     "text": [
      "(50, 50, 3)\n"
     ]
    },
    {
     "data": {
      "image/png": "[encoded data removed]",
      "text/plain": [
       "<Figure size 432x288 with 1 Axes>"
      ]
     },
     "metadata": {
      "needs_background": "light"
     },
     "output_type": "display_data"
    }
   ],
   "source": [
    "# load first image in dataframe\n",
    "img1 = data.iloc[0]['image']\n",
    "# print shape of image\n",
    "print(img1.shape)\n",
    "# plot image\n",
    "plt.imshow(img1)\n",
    "plt.show()"
   ]
  },
  {
   "cell_type": "markdown",
   "id": "7b600af89e7540b7",
   "metadata": {},
   "source": [
    "# Split sprite data and load into tensors"
   ]
  },
  {
   "cell_type": "code",
   "execution_count": 45,
   "id": "eab32f0ebc997fe",
   "metadata": {
    "ExecuteTime": {
     "end_time": "2023-12-05T02:13:56.829241Z",
     "start_time": "2023-12-05T02:13:56.730282700Z"
    }
   },
   "outputs": [],
   "source": [
    "# load features\n",
    "X = data['image']\n",
    "# load labels\n",
    "y = data['number']\n",
    "# split data into test and training data\n",
    "X_train, X_test, y_train, y_test = train_test_split(X, y, test_size=0.3, random_state=42)\n",
    "# concat feature and labels together\n",
    "data_train = pd.concat([X_train, y_train], axis=1)\n",
    "data_test = pd.concat([X_test, y_test], axis=1)\n",
    "\n",
    "device = torch.device(\"cuda\" if torch.cuda.is_available() else \"cpu\")\n",
    "\n",
    "# convert training data to tensor\n",
    "tensor_X_train = torch.stack([torch.tensor(img, dtype=torch.float32) for img in data_train['image'].values])\n",
    "tensor_X_train = torch.transpose(tensor_X_train, 1, 2)\n",
    "tensor_X_train = torch.transpose(tensor_X_train, 1, 3)\n",
    "tensor_X_train = tensor_X_train.to(device)\n",
    "tensor_y_train = torch.tensor(data_train['number'].values)\n",
    "tensor_y_train = tensor_y_train.to(device)\n",
    "tensor_train = TensorDataset(tensor_X_train, tensor_y_train)\n",
    "\n",
    "# convert test data to tensor\n",
    "tensor_X_test = torch.stack([torch.tensor(img, dtype=torch.float32) for img in data_test['image'].values])\n",
    "tensor_X_test = torch.transpose(tensor_X_test, 1, 2)\n",
    "tensor_X_test = torch.transpose(tensor_X_test, 1, 3)\n",
    "tensor_X_test = tensor_X_test.to(device)\n",
    "tensor_y_test = torch.tensor(data_test['number'].values)\n",
    "tensor_y_test = tensor_y_test.to(device)\n",
    "tensor_test = TensorDataset(tensor_X_test, tensor_y_test)\n",
    "\n",
    "# put tensor data into DataLoader\n",
    "# train_loader = DataLoader(tensor_train, batch_size=16, shuffle=True)\n",
    "# test_loader = DataLoader(tensor_test, batch_size=16, shuffle=True)"
   ]
  },
  {
   "cell_type": "markdown",
   "id": "2cabe721de9b6ff1",
   "metadata": {},
   "source": [
    "# CNN Model"
   ]
  },
  {
   "cell_type": "code",
   "execution_count": 46,
   "id": "3498cb9cb7d2ef26",
   "metadata": {
    "ExecuteTime": {
     "end_time": "2023-12-05T02:14:12.898657Z",
     "start_time": "2023-12-05T02:14:12.883984100Z"
    }
   },
   "outputs": [],
   "source": [
    "# cnn model\n",
    "class CNN(nn.Module):\n",
    "    def __init__(self, num_classes):\n",
    "        super(CNN, self).__init__()\n",
    "        self.features = nn.Sequential(\n",
    "            nn.Conv2d(3, 64, kernel_size=3, padding=1),\n",
    "            nn.ReLU(),\n",
    "            nn.BatchNorm2d(64),\n",
    "            nn.Dropout(0.3),\n",
    "\n",
    "            nn.Conv2d(64, 256, kernel_size=3, padding=1),\n",
    "            nn.ReLU(),\n",
    "            nn.BatchNorm2d(256),\n",
    "            nn.Dropout(0.3),\n",
    "        )\n",
    "        self.classifier = nn.Sequential(\n",
    "            nn.Linear(256 * 50 * 50, 512),\n",
    "            nn.ReLU(),\n",
    "            nn.Dropout(0.3),\n",
    "            # nn.Linear(512, 1024),\n",
    "            # nn.ReLU(),\n",
    "            nn.Linear(512, num_classes)\n",
    "        )\n",
    "        \n",
    "    def forward(self, x):\n",
    "        x = self.features(x)\n",
    "        x = x.view(-1, 256 * 50 * 50) \n",
    "        x = self.classifier(x)\n",
    "        return x\n",
    "\n",
    "# function to train model\n",
    "def train_model(model, train_loader, criterion, optimizer, epoch, print_loss=False):\n",
    "    model.train()\n",
    "    running_loss = []\n",
    "    total_samples = 0\n",
    "    correct_samples = 0\n",
    "    for inputs, labels in tqdm(train_loader):\n",
    "    # for inputs, labels in train_loader:\n",
    "        optimizer.zero_grad()\n",
    "        pred = model(inputs)\n",
    "        loss = criterion(pred, labels)\n",
    "        running_loss.append(loss.item())\n",
    "        \n",
    "        _, predicted = torch.max(pred, 1)\n",
    "        correct_samples += (predicted == labels).sum().item()\n",
    "        total_samples += labels.size(0)\n",
    "        \n",
    "        loss.backward()\n",
    "        optimizer.step()\n",
    "    if print_loss:\n",
    "        print(\"Epoch {} - loss: {:.4} - training accuracy: {:.2%}\".format(epoch + 1, np.mean(running_loss), correct_samples / total_samples))\n",
    "    return correct_samples / total_samples\n",
    "\n",
    "# function to evaluate the model\n",
    "def evaluate_model(model, test_loader, criterion, top_k=False, k=10):\n",
    "    correct = 0\n",
    "    total = 0\n",
    "    model.eval()\n",
    "    predictions, labels = [], []\n",
    "    eval_running_loss = []\n",
    "    with torch.no_grad():\n",
    "        for batch, label in test_loader:\n",
    "            pred = model(batch)\n",
    "            eval_loss = criterion(pred, label)\n",
    "            eval_running_loss.append(eval_loss.item())\n",
    "\n",
    "            if top_k:\n",
    "                topk_values, topk_indices = torch.topk(pred, k=k, dim=1)\n",
    "                for i, l in enumerate(label.tolist()):\n",
    "                    if l in topk_indices.tolist()[i]:\n",
    "                        correct += 1\n",
    "                        predictions.append(l)\n",
    "                        labels.append(l)\n",
    "                    else:\n",
    "                        predictions.append(topk_indices.tolist()[i][0])\n",
    "                        labels.append(l)\n",
    "                # print(label, topk_indices)\n",
    "            else:\n",
    "                correct += (torch.argmax(pred,dim=1)==label).sum().item()\n",
    "                predictions.extend(torch.argmax(pred, dim=1).tolist())\n",
    "                labels.extend(label.tolist())\n",
    "    acc = correct/len(test_loader.dataset)\n",
    "    \n",
    "    # print(f\"Test Acccuracy: {acc}\")\n",
    "    return acc, predictions, labels\n",
    "    "
   ]
  },
  {
   "cell_type": "markdown",
   "id": "71492fa08fe8b63a",
   "metadata": {},
   "source": [
    "# Accuracy, Precision, Recall, F1"
   ]
  },
  {
   "cell_type": "code",
   "execution_count": 47,
   "id": "15498434976e421",
   "metadata": {
    "ExecuteTime": {
     "end_time": "2023-12-05T02:14:12.910755600Z",
     "start_time": "2023-12-05T02:14:12.900649100Z"
    }
   },
   "outputs": [],
   "source": [
    "def evaluate(predictions, labels):\n",
    "    accuracy = accuracy_score(labels, predictions, normalize=True)\n",
    "    precision = precision_score(labels, predictions, average='weighted', zero_division=0)\n",
    "    recall = recall_score(labels, predictions, average='weighted', zero_division=0)\n",
    "    f1 = f1_score(labels, predictions, average='weighted', zero_division=0)\n",
    "    \n",
    "    print('Accuracy: ', accuracy)\n",
    "    print('Precision: ', precision)\n",
    "    print('Recall: ', recall)\n",
    "    print('F1 Score: ', f1)"
   ]
  },
  {
   "cell_type": "markdown",
   "id": "45fec0601432c29b",
   "metadata": {},
   "source": [
    "# Function to train and test CNN model on sprite data"
   ]
  },
  {
   "cell_type": "code",
   "execution_count": 27,
   "id": "d648d0c697d2aaf",
   "metadata": {
    "ExecuteTime": {
     "end_time": "2023-11-30T17:19:42.512416400Z",
     "start_time": "2023-11-30T17:19:42.501408900Z"
    }
   },
   "outputs": [],
   "source": [
    "def train_test_model(lr, batch_size, weight_decay, optimizer_name, epochs, print_loss=False):\n",
    "    cnn = CNN(num_classes=50)\n",
    "    cnn = cnn.to(device)\n",
    "    \n",
    "    criterion = nn.CrossEntropyLoss()\n",
    "    \n",
    "    if optimizer_name == 'adam':\n",
    "        optimizer = optim.Adam(cnn.parameters(), lr=lr, weight_decay=weight_decay)\n",
    "    elif optimizer_name == 'sgd':\n",
    "        optimizer = optim.SGD(cnn.parameters(), lr=lr, weight_decay=weight_decay, momentum=0.9)\n",
    "    elif optimizer_name == 'rmsprop':\n",
    "        optimizer = optim.RMSprop(cnn.parameters(), lr=lr, weight_decay=weight_decay)\n",
    "    else:\n",
    "        raise ValueError(f\"Unknown optimizer: {optimizer_name}\")\n",
    "    \n",
    "    \n",
    "    train_loader = DataLoader(tensor_train, batch_size=batch_size, shuffle=True)\n",
    "    test_loader = DataLoader(tensor_test, batch_size=batch_size, shuffle=True)\n",
    "    \n",
    "    # Training loop\n",
    "    # for epoch in tqdm(range(epochs)):  # Adjust the number of epochs as needed\n",
    "    for epoch in range(epochs):\n",
    "        training_accuracy = train_model(cnn, train_loader, criterion, optimizer, epoch, print_loss=print_loss)\n",
    "    \n",
    "    # Evaluate the model on the validation set\n",
    "    test_accuracy, predictions, labels = evaluate_model(cnn, test_loader, criterion)\n",
    "    \n",
    "    print(f\"LR: {lr}, Batch Size: {batch_size}, Weight Decay: {weight_decay}, Optimizer: {optimizer_name}, Training Accuracy: {round(training_accuracy, 5)}, Test Accuracy: {round(test_accuracy, 5)}\")\n",
    "    \n",
    "    evaluate(predictions, labels)"
   ]
  },
  {
   "cell_type": "markdown",
   "id": "b75cffbb2226d1a",
   "metadata": {},
   "source": [
    "# Train and test model"
   ]
  },
  {
   "cell_type": "code",
   "execution_count": 23,
   "id": "3357309475f3ca15",
   "metadata": {
    "ExecuteTime": {
     "end_time": "2023-11-29T17:50:16.051827400Z",
     "start_time": "2023-11-29T17:09:25.918746500Z"
    }
   },
   "outputs": [
    {
     "name": "stderr",
     "output_type": "stream",
     "text": [
      "100%|██████████| 136/136 [04:04<00:00,  1.79s/it]\n"
     ]
    },
    {
     "name": "stdout",
     "output_type": "stream",
     "text": [
      "Epoch 1 - loss: 2.877 - training accuracy: 25.25%\n"
     ]
    },
    {
     "name": "stderr",
     "output_type": "stream",
     "text": [
      "100%|██████████| 136/136 [04:03<00:00,  1.79s/it]\n"
     ]
    },
    {
     "name": "stdout",
     "output_type": "stream",
     "text": [
      "Epoch 2 - loss: 1.133 - training accuracy: 66.20%\n"
     ]
    },
    {
     "name": "stderr",
     "output_type": "stream",
     "text": [
      "100%|██████████| 136/136 [03:56<00:00,  1.74s/it]\n"
     ]
    },
    {
     "name": "stdout",
     "output_type": "stream",
     "text": [
      "Epoch 3 - loss: 0.6308 - training accuracy: 80.75%\n"
     ]
    },
    {
     "name": "stderr",
     "output_type": "stream",
     "text": [
      "100%|██████████| 136/136 [03:57<00:00,  1.74s/it]\n"
     ]
    },
    {
     "name": "stdout",
     "output_type": "stream",
     "text": [
      "Epoch 4 - loss: 0.3824 - training accuracy: 88.37%\n"
     ]
    },
    {
     "name": "stderr",
     "output_type": "stream",
     "text": [
      "100%|██████████| 136/136 [04:07<00:00,  1.82s/it]\n"
     ]
    },
    {
     "name": "stdout",
     "output_type": "stream",
     "text": [
      "Epoch 5 - loss: 0.2455 - training accuracy: 92.52%\n"
     ]
    },
    {
     "name": "stderr",
     "output_type": "stream",
     "text": [
      "100%|██████████| 136/136 [04:02<00:00,  1.79s/it]\n"
     ]
    },
    {
     "name": "stdout",
     "output_type": "stream",
     "text": [
      "Epoch 6 - loss: 0.1496 - training accuracy: 95.98%\n"
     ]
    },
    {
     "name": "stderr",
     "output_type": "stream",
     "text": [
      "100%|██████████| 136/136 [04:32<00:00,  2.00s/it]\n"
     ]
    },
    {
     "name": "stdout",
     "output_type": "stream",
     "text": [
      "Epoch 7 - loss: 0.1065 - training accuracy: 97.23%\n"
     ]
    },
    {
     "name": "stderr",
     "output_type": "stream",
     "text": [
      "100%|██████████| 136/136 [04:11<00:00,  1.85s/it]\n"
     ]
    },
    {
     "name": "stdout",
     "output_type": "stream",
     "text": [
      "Epoch 8 - loss: 0.07196 - training accuracy: 98.34%\n"
     ]
    },
    {
     "name": "stderr",
     "output_type": "stream",
     "text": [
      "100%|██████████| 136/136 [03:52<00:00,  1.71s/it]\n"
     ]
    },
    {
     "name": "stdout",
     "output_type": "stream",
     "text": [
      "Epoch 9 - loss: 0.06283 - training accuracy: 98.85%\n"
     ]
    },
    {
     "name": "stderr",
     "output_type": "stream",
     "text": [
      "100%|██████████| 136/136 [03:51<00:00,  1.70s/it]\n"
     ]
    },
    {
     "name": "stdout",
     "output_type": "stream",
     "text": [
      "Epoch 10 - loss: 0.04589 - training accuracy: 99.17%\n",
      "LR: 0.0004, Batch Size: 16, Weight Decay: 0.0001, Optimizer: sgd, Training Accuracy: 0.99169, Test Accuracy: 0.80409\n"
     ]
    }
   ],
   "source": [
    "train_test_model(lr=4e-4, batch_size=16, weight_decay=1e-4, optimizer_name='sgd', epochs=10, print_loss=True)"
   ]
  },
  {
   "cell_type": "markdown",
   "id": "1c1fa2d601838cbf",
   "metadata": {},
   "source": [
    "# Function to encode labels and predictions to pokemon name and return classification report"
   ]
  },
  {
   "cell_type": "code",
   "execution_count": 19,
   "id": "8ffee938426b39ce",
   "metadata": {
    "ExecuteTime": {
     "end_time": "2023-12-05T00:44:50.129757800Z",
     "start_time": "2023-12-05T00:44:50.117993100Z"
    }
   },
   "outputs": [],
   "source": [
    "def numbers_to_names_report(labels, predictions):\n",
    "    for i in range(len(labels)):\n",
    "        labels[i] = pokemon_number_to_name(labels[i]+1)\n",
    "        predictions[i] = pokemon_number_to_name(predictions[i]+1)\n",
    "    return classification_report(labels, predictions)"
   ]
  },
  {
   "cell_type": "markdown",
   "id": "26f38c39bb5706e9",
   "metadata": {},
   "source": [
    "# Load trained model and test on sprite data (old model/old sprites - more noise/zoom in)"
   ]
  },
  {
   "cell_type": "code",
   "execution_count": 73,
   "id": "91050a6ac15c4ce4",
   "metadata": {
    "ExecuteTime": {
     "end_time": "2023-12-01T17:54:43.480217Z",
     "start_time": "2023-12-01T17:54:30.614204500Z"
    }
   },
   "outputs": [
    {
     "name": "stdout",
     "output_type": "stream",
     "text": [
      "0.8180839612486545\n",
      "Accuracy:  0.8180839612486545\n",
      "Precision:  0.8294961116995407\n",
      "Recall:  0.8180839612486545\n",
      "F1 Score:  0.8143982878538758\n"
     ]
    }
   ],
   "source": [
    "# load state dict of trained model\n",
    "loaded_state_dict = torch.load('cnn_state_dict.pth', map_location=torch.device('cpu'))\n",
    "cnn_load = CNN(num_classes=50)\n",
    "cnn_load.load_state_dict(loaded_state_dict)\n",
    "\n",
    "criterion = nn.CrossEntropyLoss()\n",
    "batch_size = 16\n",
    "\n",
    "test_loader = DataLoader(tensor_test, batch_size=batch_size, shuffle=True)\n",
    "\n",
    "# test model on sprite test data\n",
    "test_accuracy, predictions, labels = evaluate_model(cnn_load, test_loader, criterion)\n",
    "print(test_accuracy)\n",
    "evaluate(predictions, labels)"
   ]
  },
  {
   "cell_type": "markdown",
   "id": "ff769f52e7f18365",
   "metadata": {},
   "source": [
    "# Load trained model and test on sprite data - 10 pokemon (new model)"
   ]
  },
  {
   "cell_type": "code",
   "execution_count": 48,
   "id": "3514c6b6f9545175",
   "metadata": {
    "ExecuteTime": {
     "end_time": "2023-12-05T02:14:34.749456100Z",
     "start_time": "2023-12-05T02:14:27.729076500Z"
    }
   },
   "outputs": [
    {
     "name": "stdout",
     "output_type": "stream",
     "text": [
      "0.9800995024875622\n",
      "Accuracy:  0.9800995024875622\n",
      "Precision:  0.9808658462075586\n",
      "Recall:  0.9800995024875622\n",
      "F1 Score:  0.9800140692018846\n",
      "              precision    recall  f1-score   support\n",
      "\n",
      "   blastoise       0.95      0.90      0.92        20\n",
      "  butterfree       1.00      0.94      0.97        17\n",
      "    caterpie       0.92      1.00      0.96        22\n",
      "   charizard       1.00      1.00      1.00        24\n",
      "  charmander       1.00      1.00      1.00        19\n",
      "  charmeleon       1.00      1.00      1.00        12\n",
      "     ivysaur       0.96      1.00      0.98        24\n",
      "     metapod       1.00      1.00      1.00        19\n",
      "    squirtle       1.00      1.00      1.00        15\n",
      "    venusaur       1.00      1.00      1.00        14\n",
      "   wartortle       1.00      0.93      0.97        15\n",
      "\n",
      "    accuracy                           0.98       201\n",
      "   macro avg       0.98      0.98      0.98       201\n",
      "weighted avg       0.98      0.98      0.98       201\n"
     ]
    }
   ],
   "source": [
    "# load state dict of trained model\n",
    "loaded_state_dict = torch.load('cnn_10_state_dict.pth', map_location=torch.device('cpu'))\n",
    "cnn_load = CNN(num_classes=50)\n",
    "cnn_load.load_state_dict(loaded_state_dict)\n",
    "\n",
    "criterion = nn.CrossEntropyLoss()\n",
    "batch_size = 16\n",
    "\n",
    "test_loader = DataLoader(tensor_test, batch_size=batch_size, shuffle=True)\n",
    "\n",
    "# test model on sprite test data\n",
    "test_accuracy, predictions, labels = evaluate_model(cnn_load, test_loader, criterion)\n",
    "print(test_accuracy)\n",
    "evaluate(predictions, labels)\n",
    "report = numbers_to_names_report(labels, predictions)\n",
    "print(report)"
   ]
  },
  {
   "cell_type": "markdown",
   "id": "1f62ad3c79aca82d",
   "metadata": {},
   "source": [
    "# Load trained model and test on sprite data - 50 pokemon (new model)"
   ]
  },
  {
   "cell_type": "code",
   "execution_count": 39,
   "id": "6e5181c18f02120a",
   "metadata": {
    "ExecuteTime": {
     "end_time": "2023-12-05T02:11:52.878489700Z",
     "start_time": "2023-12-05T02:11:36.016241900Z"
    }
   },
   "outputs": [
    {
     "name": "stdout",
     "output_type": "stream",
     "text": [
      "0.9859307359307359\n",
      "Accuracy:  0.9859307359307359\n",
      "Precision:  0.9870256339471403\n",
      "Recall:  0.9859307359307359\n",
      "F1 Score:  0.9859313403307762\n",
      "              precision    recall  f1-score   support\n",
      "\n",
      "       arbok       1.00      0.96      0.98        23\n",
      "    beedrill       0.94      1.00      0.97        16\n",
      "   blastoise       1.00      0.93      0.96        14\n",
      "  butterfree       1.00      1.00      1.00        22\n",
      "    caterpie       0.96      1.00      0.98        22\n",
      "   charizard       0.94      1.00      0.97        17\n",
      "  charmander       0.86      1.00      0.92        24\n",
      "  charmeleon       1.00      0.96      0.98        24\n",
      "    clefable       1.00      1.00      1.00        15\n",
      "    clefairy       0.94      0.94      0.94        18\n",
      "     diglett       1.00      1.00      1.00        13\n",
      "     dugtrio       1.00      1.00      1.00        15\n",
      "       ekans       1.00      1.00      1.00        20\n",
      "      fearow       1.00      1.00      1.00        16\n",
      "       gloom       1.00      1.00      1.00        20\n",
      "      golbat       1.00      1.00      1.00        20\n",
      "     ivysaur       1.00      0.83      0.90        23\n",
      "  jigglypuff       1.00      1.00      1.00        11\n",
      "      kakuna       1.00      0.95      0.97        20\n",
      "     metapod       1.00      1.00      1.00        26\n",
      "    nidoking       1.00      1.00      1.00        11\n",
      "   nidoqueen       1.00      1.00      1.00        12\n",
      "   nidoran-f       1.00      0.95      0.98        21\n",
      "   nidoran-m       1.00      1.00      1.00        15\n",
      "    nidorina       1.00      1.00      1.00        20\n",
      "    nidorino       1.00      0.95      0.98        22\n",
      "   ninetales       1.00      1.00      1.00        20\n",
      "      oddish       1.00      1.00      1.00        17\n",
      "       paras       1.00      1.00      1.00        18\n",
      "    parasect       1.00      0.94      0.97        18\n",
      "     pidgeot       1.00      1.00      1.00        17\n",
      "   pidgeotto       1.00      1.00      1.00        18\n",
      "      pidgey       1.00      1.00      1.00        18\n",
      "     pikachu       0.88      0.94      0.91        16\n",
      "      raichu       1.00      1.00      1.00        20\n",
      "    raticate       1.00      1.00      1.00        19\n",
      "     rattata       0.95      1.00      0.97        18\n",
      "   sandshrew       1.00      1.00      1.00        14\n",
      "   sandslash       1.00      1.00      1.00        16\n",
      "     spearow       1.00      1.00      1.00        20\n",
      "    squirtle       0.93      1.00      0.97        14\n",
      "    venomoth       0.95      1.00      0.98        21\n",
      "     venonat       1.00      1.00      1.00        17\n",
      "    venusaur       1.00      1.00      1.00        21\n",
      "   vileplume       1.00      1.00      1.00        16\n",
      "      vulpix       1.00      1.00      1.00        19\n",
      "   wartortle       1.00      1.00      1.00        19\n",
      "      weedle       1.00      1.00      1.00        23\n",
      "  wigglytuff       1.00      1.00      1.00        26\n",
      "       zubat       1.00      1.00      1.00        19\n",
      "\n",
      "    accuracy                           0.99       924\n",
      "   macro avg       0.99      0.99      0.99       924\n",
      "weighted avg       0.99      0.99      0.99       924\n"
     ]
    }
   ],
   "source": [
    "# load state dict of trained model\n",
    "loaded_state_dict = torch.load('cnn_50_state_dict.pth', map_location=torch.device('cpu'))\n",
    "cnn_load = CNN(num_classes=50)\n",
    "cnn_load.load_state_dict(loaded_state_dict)\n",
    "\n",
    "criterion = nn.CrossEntropyLoss()\n",
    "batch_size = 16\n",
    "\n",
    "test_loader = DataLoader(tensor_test, batch_size=batch_size, shuffle=True)\n",
    "\n",
    "# test model on sprite test data\n",
    "test_accuracy, predictions, labels = evaluate_model(cnn_load, test_loader, criterion)\n",
    "print(test_accuracy)\n",
    "evaluate(predictions, labels)\n",
    "report = numbers_to_names_report(labels, predictions)\n",
    "print(report)"
   ]
  },
  {
   "cell_type": "markdown",
   "id": "40f7bc0d66d8fddb",
   "metadata": {},
   "source": [
    "# Load Pokemon battle image data and convert to tensor"
   ]
  },
  {
   "cell_type": "code",
   "execution_count": 34,
   "id": "2ee10012e7866e70",
   "metadata": {
    "ExecuteTime": {
     "end_time": "2023-12-05T01:10:39.532147100Z",
     "start_time": "2023-12-05T01:10:39.103343200Z"
    }
   },
   "outputs": [],
   "source": [
    "battle_number_name = []\n",
    "# iterate over pokemon in sample directory\n",
    "for i_pokemon, pokemon_file in enumerate(os.listdir('find_pkm_in_battle/ScreenShoots/output')):\n",
    "    # find start of pokemon name\n",
    "    start = 0\n",
    "    while not ('a' <= pokemon_file[start] <= 'z'):\n",
    "        start += 1\n",
    "    # find end of pokemon name\n",
    "    end = start\n",
    "    while 'a' <= pokemon_file[end] <= 'z' or pokemon_file[end] == '-':\n",
    "        end += 1\n",
    "    # pokemon name\n",
    "    pokemon = pokemon_file[start:end]\n",
    "    # check if pokemon was trained by the model\n",
    "    if pokemon_name_to_number(pokemon) <= 10:\n",
    "        fp = os.path.join('find_pkm_in_battle/ScreenShoots/output',pokemon_file)\n",
    "        # read in image\n",
    "        sprite_image = cv2.imread(fp)\n",
    "        # resize and convert image to np array\n",
    "        resized_sprite_image = np.array(cv2.resize(sprite_image, (50, 50)))\n",
    "        # convert to pokemon's pokedex number\n",
    "        pokemon_number = pokemon_name_to_number(pokemon)\n",
    "        # store image, number, name in cumulative list of other images\n",
    "        battle_number_name.append([resized_sprite_image, pokemon_number, pokemon])\n",
    "\n",
    "# convert to pandas dataframe\n",
    "data_battle = pd.DataFrame(battle_number_name, columns = ['image', 'number', 'name'])\n",
    "\n",
    "# load features\n",
    "X_battle = data_battle['image']\n",
    "# load labels\n",
    "y_battle = data_battle['number']\n",
    "\n",
    "# concat feature and labels together\n",
    "data_battle_test = pd.concat([X_battle, y_battle], axis=1)\n",
    "\n",
    "device = torch.device(\"cuda\" if torch.cuda.is_available() else \"cpu\")\n",
    "\n",
    "# convert battle data to tensor\n",
    "tensor_X_battle = torch.stack([torch.tensor(img, dtype=torch.float32) for img in data_battle_test['image'].values])\n",
    "tensor_X_battle = torch.transpose(tensor_X_battle, 1, 2)\n",
    "tensor_X_battle = torch.transpose(tensor_X_battle, 1, 3)\n",
    "tensor_X_battle = tensor_X_battle.to(device)\n",
    "tensor_y_battle = torch.tensor(data_battle_test['number'].values)\n",
    "tensor_y_battle = tensor_y_battle.to(device)\n",
    "tensor_battle = TensorDataset(tensor_X_battle, tensor_y_battle)"
   ]
  },
  {
   "cell_type": "markdown",
   "id": "b8ca0f6f6590cdf8",
   "metadata": {},
   "source": [
    "# Load trained model (old - 50 pokemon) and test on battle data"
   ]
  },
  {
   "cell_type": "code",
   "execution_count": 127,
   "id": "d99a42c3e1923f68",
   "metadata": {
    "ExecuteTime": {
     "end_time": "2023-12-01T21:14:25.157117800Z",
     "start_time": "2023-12-01T21:14:18.576366Z"
    }
   },
   "outputs": [
    {
     "name": "stdout",
     "output_type": "stream",
     "text": [
      "Accuracy:  0.14666666666666667\n",
      "Precision:  0.1961056487372277\n",
      "Recall:  0.14666666666666667\n",
      "F1 Score:  0.13594465962887017\n"
     ]
    }
   ],
   "source": [
    "# load state dict of trained model\n",
    "loaded_state_dict = torch.load('cnn_state_dict.pth', map_location=torch.device('cpu'))\n",
    "cnn_load = CNN(num_classes=50)\n",
    "cnn_load.load_state_dict(loaded_state_dict)\n",
    "\n",
    "criterion = nn.CrossEntropyLoss()\n",
    "batch_size = 16\n",
    "\n",
    "# put battle tensor into DataLoader\n",
    "battle_loader = DataLoader(tensor_battle, batch_size=batch_size, shuffle=True)\n",
    "\n",
    "# test model on battle data\n",
    "test_accuracy, predictions, labels = evaluate_model(cnn_load, battle_loader, criterion, top_k=True, k=5)\n",
    "evaluate(predictions, labels)\n"
   ]
  },
  {
   "cell_type": "markdown",
   "id": "c8bc93de4f3e3ae2",
   "metadata": {},
   "source": [
    "# Load trained model (new - 10 pokemon) and test on battle data"
   ]
  },
  {
   "cell_type": "code",
   "execution_count": 37,
   "id": "22c705d372fe5cc0",
   "metadata": {
    "ExecuteTime": {
     "end_time": "2023-12-05T01:13:01.753816800Z",
     "start_time": "2023-12-05T01:12:57.367082900Z"
    }
   },
   "outputs": [
    {
     "name": "stdout",
     "output_type": "stream",
     "text": [
      "71\n",
      "Accuracy:  0.09859154929577464\n",
      "Precision:  0.176056338028169\n",
      "Recall:  0.09859154929577464\n",
      "F1 Score:  0.12435725463894477\n"
     ]
    }
   ],
   "source": [
    "# load state dict of trained model\n",
    "loaded_state_dict = torch.load('cnn_10_state_dict.pth', map_location=torch.device('cpu'))\n",
    "cnn_load = CNN(num_classes=50)\n",
    "cnn_load.load_state_dict(loaded_state_dict)\n",
    "\n",
    "criterion = nn.CrossEntropyLoss()\n",
    "batch_size = 16\n",
    "\n",
    "print(len(tensor_battle))\n",
    "# put battle tensor into DataLoader\n",
    "battle_loader = DataLoader(tensor_battle, batch_size=batch_size, shuffle=True)\n",
    "\n",
    "# test model on battle data\n",
    "test_accuracy, predictions, labels = evaluate_model(cnn_load, battle_loader, criterion, top_k=True, k=1)\n",
    "evaluate(predictions, labels)"
   ]
  },
  {
   "cell_type": "code",
   "execution_count": 34,
   "id": "6c1c4931a51efe6e",
   "metadata": {
    "ExecuteTime": {
     "end_time": "2023-12-02T16:53:12.635951300Z",
     "start_time": "2023-12-02T16:53:08.462559400Z"
    }
   },
   "outputs": [
    {
     "name": "stdout",
     "output_type": "stream",
     "text": [
      "24\n",
      "Accuracy:  0.5\n",
      "Precision:  0.7142857142857143\n",
      "Recall:  0.5\n",
      "F1 Score:  0.5620192307692308\n"
     ]
    }
   ],
   "source": [
    "# load state dict of trained model\n",
    "loaded_state_dict = torch.load('cnn_10_state_dict.pth', map_location=torch.device('cpu'))\n",
    "cnn_load = CNN(num_classes=50)\n",
    "cnn_load.load_state_dict(loaded_state_dict)\n",
    "\n",
    "criterion = nn.CrossEntropyLoss()\n",
    "batch_size = 16\n",
    "\n",
    "print(len(tensor_battle))\n",
    "# put battle tensor into DataLoader\n",
    "battle_loader = DataLoader(tensor_battle, batch_size=batch_size, shuffle=True)\n",
    "\n",
    "# test model on battle data\n",
    "test_accuracy, predictions, labels = evaluate_model(cnn_load, battle_loader, criterion, top_k=True, k=5)\n",
    "evaluate(predictions, labels)"
   ]
  },
  {
   "cell_type": "markdown",
   "id": "9823147ef82d7433",
   "metadata": {},
   "source": [
    "# Load trained model (new - 50 pokemon) and test on battle data"
   ]
  },
  {
   "cell_type": "code",
   "execution_count": 48,
   "id": "8df1e14fe82c09ee",
   "metadata": {
    "ExecuteTime": {
     "end_time": "2023-12-02T17:20:32.588406400Z",
     "start_time": "2023-12-02T17:20:28.584443900Z"
    }
   },
   "outputs": [
    {
     "name": "stdout",
     "output_type": "stream",
     "text": [
      "63\n",
      "Accuracy:  0.15873015873015872\n",
      "Precision:  0.3531746031746032\n",
      "Recall:  0.15873015873015872\n",
      "F1 Score:  0.2034769463340892\n"
     ]
    }
   ],
   "source": [
    "# load state dict of trained model\n",
    "loaded_state_dict = torch.load('cnn_50_state_dict.pth', map_location=torch.device('cpu'))\n",
    "cnn_load = CNN(num_classes=50)\n",
    "cnn_load.load_state_dict(loaded_state_dict)\n",
    "\n",
    "criterion = nn.CrossEntropyLoss()\n",
    "batch_size = 16\n",
    "\n",
    "print(len(tensor_battle))\n",
    "# put battle tensor into DataLoader\n",
    "battle_loader = DataLoader(tensor_battle, batch_size=batch_size, shuffle=True)\n",
    "\n",
    "# test model on battle data\n",
    "test_accuracy, predictions, labels = evaluate_model(cnn_load, battle_loader, criterion, top_k=True, k=5)\n",
    "evaluate(predictions, labels)"
   ]
  },
  {
   "cell_type": "markdown",
   "id": "9d2af445c9060e98",
   "metadata": {},
   "source": [
    "# Load trained model (new - 10 pokemon) and train on manually cropped battle data"
   ]
  },
  {
   "cell_type": "code",
   "execution_count": 33,
   "id": "fb8664ce6d7bf88",
   "metadata": {
    "ExecuteTime": {
     "end_time": "2023-12-05T01:08:57.699581500Z",
     "start_time": "2023-12-05T01:08:54.133467Z"
    }
   },
   "outputs": [
    {
     "name": "stdout",
     "output_type": "stream",
     "text": [
      "14\n",
      "Accuracy:  0.8571428571428571\n",
      "Precision:  0.9285714285714286\n",
      "Recall:  0.8571428571428571\n",
      "F1 Score:  0.8452380952380951\n",
      "              precision    recall  f1-score   support\n",
      "\n",
      "    caterpie       1.00      1.00      1.00         2\n",
      "   charizard       1.00      1.00      1.00         1\n",
      "  charmander       1.00      1.00      1.00         1\n",
      "  charmeleon       1.00      1.00      1.00         2\n",
      "     ivysaur       0.50      1.00      0.67         2\n",
      "     metapod       1.00      0.33      0.50         3\n",
      "    squirtle       1.00      1.00      1.00         1\n",
      "   wartortle       1.00      1.00      1.00         2\n",
      "\n",
      "    accuracy                           0.86        14\n",
      "   macro avg       0.94      0.92      0.90        14\n",
      "weighted avg       0.93      0.86      0.85        14\n"
     ]
    }
   ],
   "source": [
    "# load state dict of trained model\n",
    "loaded_state_dict = torch.load('cnn_10_state_dict.pth', map_location=torch.device('cpu'))\n",
    "cnn_load = CNN(num_classes=50)\n",
    "cnn_load.load_state_dict(loaded_state_dict)\n",
    "\n",
    "criterion = nn.CrossEntropyLoss()\n",
    "batch_size = 16\n",
    "\n",
    "print(len(tensor_battle))\n",
    "# put battle tensor into DataLoader\n",
    "battle_loader = DataLoader(tensor_battle, batch_size=batch_size, shuffle=True)\n",
    "\n",
    "# test model on battle data\n",
    "test_accuracy, predictions, labels = evaluate_model(cnn_load, battle_loader, criterion, top_k=True, k=5)\n",
    "evaluate(predictions, labels)\n",
    "report = numbers_to_names_report(labels, predictions)\n",
    "print(report)"
   ]
  },
  {
   "cell_type": "markdown",
   "id": "8298a22866ae36b7",
   "metadata": {},
   "source": [
    "# Load trained model (new - 10 gray pokemon) and test on manually cropped gray battle data"
   ]
  },
  {
   "cell_type": "code",
   "execution_count": 15,
   "id": "e513cab5ecfb53e2",
   "metadata": {
    "ExecuteTime": {
     "end_time": "2023-12-04T23:27:51.151918300Z",
     "start_time": "2023-12-04T23:27:47.201155400Z"
    }
   },
   "outputs": [
    {
     "name": "stdout",
     "output_type": "stream",
     "text": [
      "14\n",
      "Accuracy:  0.6428571428571429\n",
      "Precision:  0.8333333333333333\n",
      "Recall:  0.6428571428571429\n",
      "F1 Score:  0.6619047619047619\n",
      "              precision    recall  f1-score   support\n",
      "\n",
      "           0       0.67      1.00      0.80         2\n",
      "           2       0.33      1.00      0.50         1\n",
      "           3       1.00      0.50      0.67         2\n",
      "           4       0.00      0.00      0.00         1\n",
      "           5       1.00      1.00      1.00         1\n",
      "           6       1.00      0.50      0.67         2\n",
      "           7       0.00      0.00      0.00         0\n",
      "           8       1.00      1.00      1.00         2\n",
      "           9       1.00      0.33      0.50         3\n",
      "\n",
      "    accuracy                           0.64        14\n",
      "   macro avg       0.67      0.59      0.57        14\n",
      "weighted avg       0.83      0.64      0.66        14\n"
     ]
    },
    {
     "name": "stderr",
     "output_type": "stream",
     "text": [
      "C:\\Users\\letca\\anaconda3\\lib\\site-packages\\sklearn\\metrics\\_classification.py:1248: UndefinedMetricWarning: Precision and F-score are ill-defined and being set to 0.0 in labels with no predicted samples. Use `zero_division` parameter to control this behavior.\n",
      "  _warn_prf(average, modifier, msg_start, len(result))\n",
      "C:\\Users\\letca\\anaconda3\\lib\\site-packages\\sklearn\\metrics\\_classification.py:1248: UndefinedMetricWarning: Recall and F-score are ill-defined and being set to 0.0 in labels with no true samples. Use `zero_division` parameter to control this behavior.\n",
      "  _warn_prf(average, modifier, msg_start, len(result))\n",
      "C:\\Users\\letca\\anaconda3\\lib\\site-packages\\sklearn\\metrics\\_classification.py:1248: UndefinedMetricWarning: Precision and F-score are ill-defined and being set to 0.0 in labels with no predicted samples. Use `zero_division` parameter to control this behavior.\n",
      "  _warn_prf(average, modifier, msg_start, len(result))\n",
      "C:\\Users\\letca\\anaconda3\\lib\\site-packages\\sklearn\\metrics\\_classification.py:1248: UndefinedMetricWarning: Recall and F-score are ill-defined and being set to 0.0 in labels with no true samples. Use `zero_division` parameter to control this behavior.\n",
      "  _warn_prf(average, modifier, msg_start, len(result))\n",
      "C:\\Users\\letca\\anaconda3\\lib\\site-packages\\sklearn\\metrics\\_classification.py:1248: UndefinedMetricWarning: Precision and F-score are ill-defined and being set to 0.0 in labels with no predicted samples. Use `zero_division` parameter to control this behavior.\n",
      "  _warn_prf(average, modifier, msg_start, len(result))\n",
      "C:\\Users\\letca\\anaconda3\\lib\\site-packages\\sklearn\\metrics\\_classification.py:1248: UndefinedMetricWarning: Recall and F-score are ill-defined and being set to 0.0 in labels with no true samples. Use `zero_division` parameter to control this behavior.\n",
      "  _warn_prf(average, modifier, msg_start, len(result))\n"
     ]
    }
   ],
   "source": [
    "# Load trained model (new - 10 pokemon) and train on manually cropped battle data\n",
    "\n",
    "# load state dict of trained model\n",
    "loaded_state_dict = torch.load('cnn_10_gray_state_dict.pth', map_location=torch.device('cpu'))\n",
    "cnn_load = CNN(num_classes=50)\n",
    "cnn_load.load_state_dict(loaded_state_dict)\n",
    "\n",
    "criterion = nn.CrossEntropyLoss()\n",
    "batch_size = 16\n",
    "\n",
    "print(len(tensor_battle))\n",
    "# put battle tensor into DataLoader\n",
    "battle_loader = DataLoader(tensor_battle, batch_size=batch_size, shuffle=True)\n",
    "\n",
    "# test model on battle data\n",
    "test_accuracy, predictions, labels = evaluate_model(cnn_load, battle_loader, criterion, top_k=True, k=3)\n",
    "evaluate(predictions, labels)\n",
    "report = (labels, predictions)\n",
    "print(report)"
   ]
  },
  {
   "cell_type": "code",
   "execution_count": 17,
   "id": "a98abbe159e616a7",
   "metadata": {
    "ExecuteTime": {
     "end_time": "2023-12-05T00:41:20.868066600Z",
     "start_time": "2023-12-05T00:41:20.844207600Z"
    }
   },
   "outputs": [],
   "source": []
  },
  {
   "cell_type": "code",
   "execution_count": null,
   "id": "f9bd47ce649d1dfa",
   "metadata": {},
   "outputs": [],
   "source": []
  }
 ],
 "metadata": {
  "kernelspec": {
   "display_name": "Python 3 (ipykernel)",
   "language": "python",
   "name": "python3"
  },
  "language_info": {
   "codemirror_mode": {
    "name": "ipython",
    "version": 3
   },
   "file_extension": ".py",
   "mimetype": "text/x-python",
   "name": "python",
   "nbconvert_exporter": "python",
   "pygments_lexer": "ipython3",
   "version": "3.9.7"
  }
 },
 "nbformat": 4,
 "nbformat_minor": 5
}
